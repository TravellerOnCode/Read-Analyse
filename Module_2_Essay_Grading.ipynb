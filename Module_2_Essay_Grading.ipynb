{
  "nbformat": 4,
  "nbformat_minor": 0,
  "metadata": {
    "colab": {
      "name": "Module_2_Essay_Grading.ipynb",
      "provenance": [],
      "collapsed_sections": []
    },
    "kernelspec": {
      "name": "python3",
      "display_name": "Python 3"
    },
    "accelerator": "GPU"
  },
  "cells": [
    {
      "cell_type": "code",
      "metadata": {
        "id": "lmrv2c--6Vsi",
        "colab_type": "code",
        "colab": {
          "base_uri": "https://localhost:8080/",
          "height": 114
        },
        "outputId": "9afb8747-e16e-4351-fb86-be54b51f62e4"
      },
      "source": [
        "#Required Libraries\n",
        "import matplotlib.pyplot as plt \n",
        "import pandas as pd\n",
        "import io\n",
        "import math\n",
        "import numpy as np\n",
        "\n",
        "from sklearn.model_selection import train_test_split\n",
        "from sklearn.utils import shuffle\n",
        "\n",
        "from keras.preprocessing.text import Tokenizer\n",
        "from tensorflow.keras.preprocessing import sequence,text\n",
        "\n",
        "\n",
        "from keras.layers import Embedding, LSTM, Dense, Dropout, Lambda, Flatten\n",
        "from keras.models import Sequential, load_model, model_from_config\n",
        "import keras.backend as K\n",
        "\n",
        "from sklearn.metrics import cohen_kappa_score\n",
        "\n",
        "# Restart runtime using 'Runtime' -> 'Restart runtime...'\n",
        "%tensorflow_version 1.x\n",
        "import tensorflow as tf\n",
        "print(tf.__version__)"
      ],
      "execution_count": 1,
      "outputs": [
        {
          "output_type": "stream",
          "text": [
            "Using TensorFlow backend.\n"
          ],
          "name": "stderr"
        },
        {
          "output_type": "display_data",
          "data": {
            "text/html": [
              "<p style=\"color: red;\">\n",
              "The default version of TensorFlow in Colab will soon switch to TensorFlow 2.x.<br>\n",
              "We recommend you <a href=\"https://www.tensorflow.org/guide/migrate\" target=\"_blank\">upgrade</a> now \n",
              "or ensure your notebook will continue to use TensorFlow 1.x via the <code>%tensorflow_version 1.x</code> magic:\n",
              "<a href=\"https://colab.research.google.com/notebooks/tensorflow_version.ipynb\" target=\"_blank\">more info</a>.</p>\n"
            ],
            "text/plain": [
              "<IPython.core.display.HTML object>"
            ]
          },
          "metadata": {
            "tags": []
          }
        },
        {
          "output_type": "stream",
          "text": [
            "1.15.0\n"
          ],
          "name": "stdout"
        }
      ]
    },
    {
      "cell_type": "code",
      "metadata": {
        "id": "eUiEDMg98N9A",
        "colab_type": "code",
        "colab": {
          "base_uri": "https://localhost:8080/",
          "height": 34
        },
        "outputId": "d79f3749-2e55-45a1-95d2-c58a3ec3979c"
      },
      "source": [
        "tf.test.gpu_device_name()"
      ],
      "execution_count": 2,
      "outputs": [
        {
          "output_type": "execute_result",
          "data": {
            "text/plain": [
              "'/device:GPU:0'"
            ]
          },
          "metadata": {
            "tags": []
          },
          "execution_count": 2
        }
      ]
    },
    {
      "cell_type": "code",
      "metadata": {
        "id": "texBiya26r-q",
        "colab_type": "code",
        "colab": {
          "base_uri": "https://localhost:8080/",
          "height": 88
        },
        "outputId": "ef05e7f7-ed00-4376-9c2f-71fb75051112"
      },
      "source": [
        "!gsutil cp gs://cloud-training-demos/courses/machine_learning/deepdive/09_sequence/text_classification/glove.6B.200d.txt glove.6B.200d.txt"
      ],
      "execution_count": 3,
      "outputs": [
        {
          "output_type": "stream",
          "text": [
            "Copying gs://cloud-training-demos/courses/machine_learning/deepdive/09_sequence/text_classification/glove.6B.200d.txt...\n",
            "/ [1 files][661.3 MiB/661.3 MiB]   24.4 MiB/s                                   \n",
            "Operation completed over 1 objects/661.3 MiB.                                    \n"
          ],
          "name": "stdout"
        }
      ]
    },
    {
      "cell_type": "code",
      "metadata": {
        "id": "22jGTVtf6sCy",
        "colab_type": "code",
        "colab": {}
      },
      "source": [
        ""
      ],
      "execution_count": 0,
      "outputs": []
    },
    {
      "cell_type": "code",
      "metadata": {
        "id": "SA8i5_IT-9w6",
        "colab_type": "code",
        "colab": {}
      },
      "source": [
        "#Load the data and store in a data frame\n",
        "def load_data():\n",
        "  df = pd.read_csv(r'essays_and_scores.csv',encoding='latin-1')\n",
        "  data = df[['essay_id','essay_set','essay','rater1_domain1','rater1_domain1','domain1_score']].copy()\n",
        "  data = data.dropna() #drop all NaN values\n",
        "  #print(data)\n",
        "  #check details of the data\n",
        "  print(data['essay'].apply(len).describe())\n",
        "  return data\n"
      ],
      "execution_count": 0,
      "outputs": []
    },
    {
      "cell_type": "code",
      "metadata": {
        "id": "0D9ruQ0HtQHR",
        "colab_type": "code",
        "colab": {}
      },
      "source": [
        "def visualize_data(data):\n",
        "  x = [len(w.split()) for w in data['essay']]  #store no of words of each essay in a list\n",
        "\n",
        "  n, bins, patches = plt.hist(x=x, bins='auto', color='#0504aa',alpha=0.7, rwidth=0.85)  #histogram plot\n",
        "  \n",
        "  #plt.grid(axis='y', alpha=0.75)\n",
        "  plt.xlabel('No. of words')\n",
        "  plt.ylabel('Frequency')\n",
        "  plt.title('essay length vs freq')\n",
        "  maxfreq = n.max()\n",
        "  \n",
        "  # Set a clean upper y-axis limit.\n",
        "  plt.ylim(ymax=np.ceil(maxfreq / 10) * 10 if maxfreq % 10 else maxfreq + 10)"
      ],
      "execution_count": 0,
      "outputs": []
    },
    {
      "cell_type": "code",
      "metadata": {
        "id": "FE-Y3SgDAzYo",
        "colab_type": "code",
        "colab": {}
      },
      "source": [
        "def clean_data(data):\n",
        "\n",
        "  #remove all punctuations\n",
        "  data_ = [\n",
        "      [(word.replace(\",\", \"\")\n",
        "            .replace(\".\", \"\")\n",
        "            .replace(\"(\", \"\")\n",
        "            .replace(\")\", \"\")\n",
        "            .replace(\"@\", \"\")\n",
        "            .replace(\"?\", \"\")\n",
        "           .replace(\"!\", \"\")\n",
        "            .replace(\":\", \"\"))\n",
        "      for word in row.lower().split()]\n",
        "      for row in data['essay']]\n",
        "\n",
        "  #restore words to sentences\n",
        "\n",
        "  str1=\"\"\n",
        "  essay_d=[]\n",
        "  for d in data_:\n",
        "    #print(d)\n",
        "    for i in d:\n",
        "      str1 = str1 + i + \" \"\n",
        "    essay_d.append(str1)\n",
        "    str1=\"\"\n",
        "\n",
        "  #score = [data['rater1_domain1'] + data['rater1_domain1'] ] / data['domain1_score'] * 2 \n",
        "  #score = score * 100\n",
        "  new_data = pd.DataFrame(list(zip(essay_d,data['domain1_score'])),columns = ['Essay','Score'])\n",
        "\n",
        "  return (new_data)\n",
        "  "
      ],
      "execution_count": 0,
      "outputs": []
    },
    {
      "cell_type": "code",
      "metadata": {
        "id": "CwZ_KeKpBsDP",
        "colab_type": "code",
        "colab": {}
      },
      "source": [
        "def generate_test_train(new_data):\n",
        "  #shuffle the dataset before splitting\n",
        "  new_data1 = shuffle(new_data)\n",
        "\n",
        "  train = new_data1.sample(frac=0.8)\n",
        "  new_data1.drop(train.index, axis=0, inplace=True)\n",
        "  valid = new_data1.sample(frac=0.5)\n",
        "  new_data1.drop(valid.index, axis=0, inplace=True)\n",
        "  test = new_data1\n",
        "  print(train.shape , test.shape , valid.shape )\n",
        "\n",
        "  def return_data(df):\n",
        "    return list(df['Essay']), np.array(df['Score'])\n",
        "\n",
        "\n",
        "  # Apply it to the three splits\n",
        "  train_essay, train_score = return_data(train)\n",
        "  valid_essay, valid_score = return_data(valid)\n",
        "  test_essay, test_score = return_data(test)\n",
        "  print(train_essay[0], train_score[0])\n",
        "  \n",
        "  #return a tuple of values \n",
        "  return (train_essay,train_score,valid_essay,valid_score,test_essay,test_score)\n",
        "\n"
      ],
      "execution_count": 0,
      "outputs": []
    },
    {
      "cell_type": "code",
      "metadata": {
        "id": "SS7s8joJMiLT",
        "colab_type": "code",
        "colab": {}
      },
      "source": [
        "def preprocess_data(train_essay,valid_esssay,test_essay):\n",
        "  \n",
        "  # Create a vocabulary from training corpus\n",
        "  #tokenizer = text.Tokenizer(num_words=TOP_K)\n",
        "  #tokenizer.fit_on_texts(train_essay)\n",
        "\n",
        "  #word_index=tokenizer.word_index\n",
        "  #print(word_index)\n",
        "\n",
        "  # Preprocess the train, validation and test sets\n",
        "  # Tokenize and pad sentences\n",
        "  preproc_train = tokenizer.texts_to_sequences(train_essay)\n",
        "  preproc_train = sequence.pad_sequences(preproc_train, maxlen=MAX_SEQUENCE_LENGTH)\n",
        "  preproc_valid = tokenizer.texts_to_sequences(valid_essay)\n",
        "  preproc_valid = sequence.pad_sequences(preproc_valid, maxlen=MAX_SEQUENCE_LENGTH)\n",
        "  preproc_test = tokenizer.texts_to_sequences(test_essay)\n",
        "  preproc_test = sequence.pad_sequences(preproc_test, maxlen=MAX_SEQUENCE_LENGTH)\n",
        "\n",
        "  #return a tuple of values\n",
        "  return (preproc_train,preproc_valid,preproc_test)"
      ],
      "execution_count": 0,
      "outputs": []
    },
    {
      "cell_type": "code",
      "metadata": {
        "id": "wGhE7DfMSm_W",
        "colab_type": "code",
        "colab": {}
      },
      "source": [
        "def get_embedding_matrix(word_index, embedding_path, embedding_dim):\n",
        "  embedding_matrix_all = {}\n",
        "  with open(embedding_path) as f:\n",
        "    for line in f:  # Every line contains word followed by the vector value\n",
        "        values = line.split()\n",
        "        word = values[0]\n",
        "        coefs = np.asarray(values[1:], dtype='float32')\n",
        "        embedding_matrix_all[word] = coefs\n",
        "\n",
        "        \n",
        "  # Prepare embedding matrix with just the words in our word_index dictionary\n",
        "  num_words = min(len(word_index) + 1, TOP_K)\n",
        "  embedding_matrix = np.zeros((num_words, embedding_dim))\n",
        "  for word, i in word_index.items():\n",
        "    if i >= TOP_K:\n",
        "        continue\n",
        "    embedding_vector = embedding_matrix_all.get(word)\n",
        "    if embedding_vector is not None:\n",
        "        # Words not found in embedding index will be all-zeros.\n",
        "        embedding_matrix[i] = embedding_vector\n",
        "  \n",
        "  return embedding_matrix"
      ],
      "execution_count": 0,
      "outputs": []
    },
    {
      "cell_type": "code",
      "metadata": {
        "id": "id4A8MAaD-92",
        "colab_type": "code",
        "colab": {}
      },
      "source": [
        "def build_model():\n",
        "  # Create model instance\n",
        "  model = Sequential()\n",
        "  num_features = min(len(word_index) + 1, TOP_K)\n",
        "  # Add embedding layer - GloVe embeddings\n",
        "  model.add(Embedding(input_dim=num_features,\n",
        "                output_dim=embedding_dim,\n",
        "                input_length=MAX_SEQUENCE_LENGTH,\n",
        "                weights=[get_embedding_matrix(word_index, \n",
        "                                embedding_path, embedding_dim)],\n",
        "                trainable=True))\n",
        "\n",
        "\n",
        "\n",
        "  #Add more layers\n",
        "\n",
        "  model.add(LSTM(200, dropout=0.4, recurrent_dropout=0.4, input_shape=[1, 200], return_sequences=True))\n",
        "  model.add(LSTM(64, recurrent_dropout=0.4))\n",
        "  model.add(Dropout(0.5))\n",
        "  model.add(Dense(1, activation='relu'))\n",
        "\n",
        "  model.compile(loss='mean_squared_error', optimizer='rmsprop', metrics=['mae'])\n",
        "  model.summary()\n",
        "\n",
        "  return model\n",
        "\n"
      ],
      "execution_count": 0,
      "outputs": []
    },
    {
      "cell_type": "code",
      "metadata": {
        "id": "qAcxKXjJ6sGf",
        "colab_type": "code",
        "colab": {}
      },
      "source": [
        ""
      ],
      "execution_count": 0,
      "outputs": []
    },
    {
      "cell_type": "code",
      "metadata": {
        "id": "9-lkhW_-c4nf",
        "colab_type": "code",
        "outputId": "03a8e2d7-420c-4316-cd7d-b2ba940f0a03",
        "colab": {
          "base_uri": "https://localhost:8080/",
          "height": 448
        }
      },
      "source": [
        "#Run the code \n",
        "\n",
        "data = load_data()\n",
        "visualize_data(data)\n",
        "new_data = clean_data(data)"
      ],
      "execution_count": 12,
      "outputs": [
        {
          "output_type": "stream",
          "text": [
            "count    12977.000000\n",
            "mean      1215.871234\n",
            "std        958.321377\n",
            "min          8.000000\n",
            "25%        527.000000\n",
            "50%        900.000000\n",
            "75%       1670.000000\n",
            "max       6098.000000\n",
            "Name: essay, dtype: float64\n"
          ],
          "name": "stdout"
        },
        {
          "output_type": "display_data",
          "data": {
            "image/png": "[encoded data removed]",
            "text/plain": [
              "<Figure size 432x288 with 1 Axes>"
            ]
          },
          "metadata": {
            "tags": []
          }
        }
      ]
    },
    {
      "cell_type": "code",
      "metadata": {
        "id": "AmnZDmF9GLKs",
        "colab_type": "code",
        "outputId": "1c761330-0c3c-4eb2-e075-e55c2a9525b9",
        "colab": {
          "base_uri": "https://localhost:8080/",
          "height": 156
        }
      },
      "source": [
        "\n",
        "train_essay,train_score,valid_essay,valid_score,test_essay,test_score = generate_test_train(new_data)"
      ],
      "execution_count": 14,
      "outputs": [
        {
          "output_type": "stream",
          "text": [
            "(10382, 2) (1297, 2) (1298, 2)\n",
            "the features of the setting affect the cyclist by the mood the cyclist and what happens as he journeys in the desert to a town for example his mood changes when the old man asks him for a map and his attitude changes by cautiousness of the new of the new road he went on then terror when he thought he was gonna die ò i was gonna die and the birds would pick me cleanó then to pride when the old man asks for a map and the author says òi own a very good mapó but as he journeys to yosemite the setting changes when he goes to a desert type of place then goes a bait shop to rest then probably on his merry way to his destination  2.0\n"
          ],
          "name": "stdout"
        },
        {
          "output_type": "stream",
          "text": [
            "/usr/local/lib/python3.6/dist-packages/pandas/core/frame.py:4117: SettingWithCopyWarning: \n",
            "A value is trying to be set on a copy of a slice from a DataFrame\n",
            "\n",
            "See the caveats in the documentation: http://pandas.pydata.org/pandas-docs/stable/user_guide/indexing.html#returning-a-view-versus-a-copy\n",
            "  errors=errors,\n"
          ],
          "name": "stderr"
        }
      ]
    },
    {
      "cell_type": "code",
      "metadata": {
        "id": "_kXXkhhWjmMx",
        "colab_type": "code",
        "colab": {}
      },
      "source": [
        "#Global Variables\n",
        "# Maximum vocabulary size used for tokenization\n",
        "TOP_K = 80000 \n",
        "# Sentences will be truncated/padded to this length\n",
        "MAX_SEQUENCE_LENGTH = 800"
      ],
      "execution_count": 0,
      "outputs": []
    },
    {
      "cell_type": "code",
      "metadata": {
        "id": "8eUNMU0Poo_e",
        "colab_type": "code",
        "colab": {}
      },
      "source": [
        "\n",
        "# Create a vocabulary from training corpus\n",
        "tokenizer = text.Tokenizer(num_words=TOP_K)\n",
        "tokenizer.fit_on_texts(train_essay)"
      ],
      "execution_count": 0,
      "outputs": []
    },
    {
      "cell_type": "code",
      "metadata": {
        "id": "ACwVKm3BCpul",
        "colab_type": "code",
        "colab": {}
      },
      "source": [
        "preproc_train,preproc_valid,preproc_test = preprocess_data(train_essay,valid_essay,test_essay)\n"
      ],
      "execution_count": 0,
      "outputs": []
    },
    {
      "cell_type": "code",
      "metadata": {
        "id": "mWbwOoBgjp6U",
        "colab_type": "code",
        "colab": {}
      },
      "source": [
        "# Specify the hyperparameters\n",
        "filters=64\n",
        "dropout_rate=0.2\n",
        "embedding_dim=200\n",
        "kernel_size=3\n",
        "pool_size=3\n",
        "word_index=tokenizer.word_index    #initialized in preprocess func()\n",
        "embedding_path = 'glove.6B.200d.txt'\n",
        "embedding_dim=200   #the output dimension from the embedding layer to be fed to the next layer "
      ],
      "execution_count": 0,
      "outputs": []
    },
    {
      "cell_type": "code",
      "metadata": {
        "id": "tTXFeKgVSI8U",
        "colab_type": "code",
        "outputId": "c556a725-8140-409c-c3ca-ae7b799df4ab",
        "colab": {
          "base_uri": "https://localhost:8080/",
          "height": 102
        }
      },
      "source": [
        "print(len(preproc_train[0]))\n",
        "print(len(preproc_train[10]))\n",
        "\n",
        "print(len(preproc_train))\n",
        "print(len(preproc_test))\n",
        "print(len(preproc_valid))"
      ],
      "execution_count": 19,
      "outputs": [
        {
          "output_type": "stream",
          "text": [
            "800\n",
            "800\n",
            "10382\n",
            "1297\n",
            "1298\n"
          ],
          "name": "stdout"
        }
      ]
    },
    {
      "cell_type": "code",
      "metadata": {
        "id": "WxHp11b4ZKeS",
        "colab_type": "code",
        "outputId": "29b4c431-82cb-4af4-ddb7-4bc351230fb8",
        "colab": {
          "base_uri": "https://localhost:8080/",
          "height": 323
        }
      },
      "source": [
        "model = build_model()"
      ],
      "execution_count": 21,
      "outputs": [
        {
          "output_type": "stream",
          "text": [
            "Model: \"sequential_2\"\n",
            "_________________________________________________________________\n",
            "Layer (type)                 Output Shape              Param #   \n",
            "=================================================================\n",
            "embedding_2 (Embedding)      (None, 800, 200)          7925600   \n",
            "_________________________________________________________________\n",
            "lstm_3 (LSTM)                (None, 800, 200)          320800    \n",
            "_________________________________________________________________\n",
            "lstm_4 (LSTM)                (None, 64)                67840     \n",
            "_________________________________________________________________\n",
            "dropout_2 (Dropout)          (None, 64)                0         \n",
            "_________________________________________________________________\n",
            "dense_2 (Dense)              (None, 1)                 65        \n",
            "=================================================================\n",
            "Total params: 8,314,305\n",
            "Trainable params: 8,314,305\n",
            "Non-trainable params: 0\n",
            "_________________________________________________________________\n"
          ],
          "name": "stdout"
        }
      ]
    },
    {
      "cell_type": "code",
      "metadata": {
        "id": "3Lx4BAdKSQg4",
        "colab_type": "code",
        "outputId": "0febc3cf-028f-436e-9cc8-a3442a9cbdc9",
        "colab": {
          "base_uri": "https://localhost:8080/",
          "height": 394
        }
      },
      "source": [
        "H = model.fit(preproc_train,\n",
        "         train_score,\n",
        "         validation_data=(preproc_valid, valid_score),\n",
        "         batch_size=128,\n",
        "         epochs=10,\n",
        "         verbose=1)"
      ],
      "execution_count": 35,
      "outputs": [
        {
          "output_type": "stream",
          "text": [
            "Train on 10382 samples, validate on 1298 samples\n",
            "Epoch 1/10\n",
            "10382/10382 [==============================] - 281s 27ms/step - loss: 16.7883 - mean_absolute_error: 2.1983 - val_loss: 9.0038 - val_mean_absolute_error: 1.6056\n",
            "Epoch 2/10\n",
            "10382/10382 [==============================] - 279s 27ms/step - loss: 12.5149 - mean_absolute_error: 1.9258 - val_loss: 7.3793 - val_mean_absolute_error: 1.4808\n",
            "Epoch 3/10\n",
            "10382/10382 [==============================] - 281s 27ms/step - loss: 9.3214 - mean_absolute_error: 1.7130 - val_loss: 4.3892 - val_mean_absolute_error: 1.2476\n",
            "Epoch 4/10\n",
            "10382/10382 [==============================] - 280s 27ms/step - loss: 7.1752 - mean_absolute_error: 1.5314 - val_loss: 4.5606 - val_mean_absolute_error: 1.3612\n",
            "Epoch 5/10\n",
            "10382/10382 [==============================] - 281s 27ms/step - loss: 6.6359 - mean_absolute_error: 1.4505 - val_loss: 4.2507 - val_mean_absolute_error: 1.2100\n",
            "Epoch 6/10\n",
            "10382/10382 [==============================] - 279s 27ms/step - loss: 6.1662 - mean_absolute_error: 1.3772 - val_loss: 3.9659 - val_mean_absolute_error: 1.2111\n",
            "Epoch 7/10\n",
            "10382/10382 [==============================] - 283s 27ms/step - loss: 5.6793 - mean_absolute_error: 1.3398 - val_loss: 3.7528 - val_mean_absolute_error: 1.1330\n",
            "Epoch 8/10\n",
            "10382/10382 [==============================] - 279s 27ms/step - loss: 5.3496 - mean_absolute_error: 1.2810 - val_loss: 3.5097 - val_mean_absolute_error: 1.0747\n",
            "Epoch 9/10\n",
            "10382/10382 [==============================] - 279s 27ms/step - loss: 5.4679 - mean_absolute_error: 1.2676 - val_loss: 4.3179 - val_mean_absolute_error: 1.2547\n",
            "Epoch 10/10\n",
            "10382/10382 [==============================] - 281s 27ms/step - loss: 4.9260 - mean_absolute_error: 1.2188 - val_loss: 3.0696 - val_mean_absolute_error: 1.0087\n"
          ],
          "name": "stdout"
        }
      ]
    },
    {
      "cell_type": "code",
      "metadata": {
        "id": "w_Un7bDLHvib",
        "colab_type": "code",
        "colab": {}
      },
      "source": [
        "# to be improved by increasing epochs and K-Fold Method"
      ],
      "execution_count": 0,
      "outputs": []
    },
    {
      "cell_type": "code",
      "metadata": {
        "id": "szwkpEh2ZKbt",
        "colab_type": "code",
        "colab": {}
      },
      "source": [
        "y_pred = model.predict(preproc_test)"
      ],
      "execution_count": 0,
      "outputs": []
    },
    {
      "cell_type": "code",
      "metadata": {
        "id": "3c_T3UvUIcbx",
        "colab_type": "code",
        "colab": {
          "base_uri": "https://localhost:8080/",
          "height": 136
        },
        "outputId": "c9a150a9-5462-4444-a24b-7f7273a59602"
      },
      "source": [
        "y_pred"
      ],
      "execution_count": 24,
      "outputs": [
        {
          "output_type": "execute_result",
          "data": {
            "text/plain": [
              "array([[1.7193851],\n",
              "       [2.7752569],\n",
              "       [2.2101326],\n",
              "       ...,\n",
              "       [1.4913223],\n",
              "       [8.169723 ],\n",
              "       [1.9660587]], dtype=float32)"
            ]
          },
          "metadata": {
            "tags": []
          },
          "execution_count": 24
        }
      ]
    },
    {
      "cell_type": "code",
      "metadata": {
        "id": "SIOWxFI4I87h",
        "colab_type": "code",
        "colab": {
          "base_uri": "https://localhost:8080/",
          "height": 34
        },
        "outputId": "d2ea22a7-7101-4433-9e7e-04f0736c3c9f"
      },
      "source": [
        "test_score.shape , y_pred.shape"
      ],
      "execution_count": 29,
      "outputs": [
        {
          "output_type": "execute_result",
          "data": {
            "text/plain": [
              "((1297,), (1297, 1))"
            ]
          },
          "metadata": {
            "tags": []
          },
          "execution_count": 29
        }
      ]
    },
    {
      "cell_type": "code",
      "metadata": {
        "id": "PfHtBSWCZKXL",
        "colab_type": "code",
        "colab": {
          "base_uri": "https://localhost:8080/",
          "height": 34
        },
        "outputId": "2993af4a-8e5b-457e-ffb2-bd5e04bea25c"
      },
      "source": [
        "result = cohen_kappa_score(test_score,np.around(y_pred),weights='quadratic')\n",
        "print(\"Kappa Score {}\".format(result))"
      ],
      "execution_count": 34,
      "outputs": [
        {
          "output_type": "stream",
          "text": [
            "Kappa Score 0.8760043562142501\n"
          ],
          "name": "stdout"
        }
      ]
    },
    {
      "cell_type": "code",
      "metadata": {
        "id": "Q1YOcmMG6sJV",
        "colab_type": "code",
        "colab": {}
      },
      "source": [
        "result = cohen_kappa_score(test_score,np.around(y_pred),weights='quadratic')\n",
        "print(\"Kappa Score {} : Epochs = 5 : Fold = 2\".format(result))"
      ],
      "execution_count": 0,
      "outputs": []
    },
    {
      "cell_type": "code",
      "metadata": {
        "id": "AVs1Tz4v6sLg",
        "colab_type": "code",
        "colab": {}
      },
      "source": [
        ""
      ],
      "execution_count": 0,
      "outputs": []
    },
    {
      "cell_type": "code",
      "metadata": {
        "id": "pjRsQaSX6sOV",
        "colab_type": "code",
        "colab": {}
      },
      "source": [
        ""
      ],
      "execution_count": 0,
      "outputs": []
    },
    {
      "cell_type": "code",
      "metadata": {
        "id": "lNjHnZQL6sSK",
        "colab_type": "code",
        "colab": {}
      },
      "source": [
        ""
      ],
      "execution_count": 0,
      "outputs": []
    },
    {
      "cell_type": "code",
      "metadata": {
        "id": "WFO2ep5k6r8r",
        "colab_type": "code",
        "colab": {}
      },
      "source": [
        ""
      ],
      "execution_count": 0,
      "outputs": []
    }
  ]
}