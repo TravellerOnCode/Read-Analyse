{
  "nbformat": 4,
  "nbformat_minor": 0,
  "metadata": {
    "colab": {
      "name": "Essay_Grading_System.ipynb",
      "provenance": [],
      "collapsed_sections": [
        "8RbhzRJamE4T",
        "nEQrmqdVyGOE"
      ],
      "toc_visible": true,
      "machine_shape": "hm"
    },
    "kernelspec": {
      "name": "python3",
      "display_name": "Python 3"
    }
  },
  "cells": [
    {
      "cell_type": "code",
      "metadata": {
        "id": "_41ecJxi-6a1",
        "colab_type": "code",
        "colab": {}
      },
      "source": [
        "import pandas as pd\n",
        "import io\n",
        "import math\n",
        "import numpy as np\n",
        "from sklearn.model_selection import train_test_split\n"
      ],
      "execution_count": 0,
      "outputs": []
    },
    {
      "cell_type": "code",
      "metadata": {
        "id": "xPfNTBckT7-q",
        "colab_type": "code",
        "colab": {}
      },
      "source": [
        "df = pd.read_csv(r'essay_data.csv',encoding='latin-1')\n",
        "\n",
        "# Dataset is now stored in a Pandas Dataframe"
      ],
      "execution_count": 0,
      "outputs": []
    },
    {
      "cell_type": "code",
      "metadata": {
        "id": "9j_ZUlzPT8BJ",
        "colab_type": "code",
        "colab": {}
      },
      "source": [
        "#df.head()"
      ],
      "execution_count": 0,
      "outputs": []
    },
    {
      "cell_type": "code",
      "metadata": {
        "id": "Tefq2suVT8F8",
        "colab_type": "code",
        "colab": {}
      },
      "source": [
        "data = df[['essay_id','essay_set','essay','domain1_score']].copy()"
      ],
      "execution_count": 0,
      "outputs": []
    },
    {
      "cell_type": "code",
      "metadata": {
        "id": "Jcl6fiUBT75a",
        "colab_type": "code",
        "outputId": "e45804fc-ca55-4211-e4ff-d2816f464f98",
        "colab": {
          "base_uri": "https://localhost:8080/",
          "height": 419
        }
      },
      "source": [
        "data = data.dropna() #drop all NaN values\n",
        "data"
      ],
      "execution_count": 0,
      "outputs": [
        {
          "output_type": "execute_result",
          "data": {
            "text/html": [
              "<div>\n",
              "<style scoped>\n",
              "    .dataframe tbody tr th:only-of-type {\n",
              "        vertical-align: middle;\n",
              "    }\n",
              "\n",
              "    .dataframe tbody tr th {\n",
              "        vertical-align: top;\n",
              "    }\n",
              "\n",
              "    .dataframe thead th {\n",
              "        text-align: right;\n",
              "    }\n",
              "</style>\n",
              "<table border=\"1\" class=\"dataframe\">\n",
              "  <thead>\n",
              "    <tr style=\"text-align: right;\">\n",
              "      <th></th>\n",
              "      <th>essay_id</th>\n",
              "      <th>essay_set</th>\n",
              "      <th>essay</th>\n",
              "      <th>domain1_score</th>\n",
              "    </tr>\n",
              "  </thead>\n",
              "  <tbody>\n",
              "    <tr>\n",
              "      <th>0</th>\n",
              "      <td>1</td>\n",
              "      <td>1</td>\n",
              "      <td>Dear local newspaper, I think effects computer...</td>\n",
              "      <td>8.0</td>\n",
              "    </tr>\n",
              "    <tr>\n",
              "      <th>1</th>\n",
              "      <td>2</td>\n",
              "      <td>1</td>\n",
              "      <td>Dear @CAPS1 @CAPS2, I believe that using compu...</td>\n",
              "      <td>9.0</td>\n",
              "    </tr>\n",
              "    <tr>\n",
              "      <th>2</th>\n",
              "      <td>3</td>\n",
              "      <td>1</td>\n",
              "      <td>Dear, @CAPS1 @CAPS2 @CAPS3 More and more peopl...</td>\n",
              "      <td>7.0</td>\n",
              "    </tr>\n",
              "    <tr>\n",
              "      <th>3</th>\n",
              "      <td>4</td>\n",
              "      <td>1</td>\n",
              "      <td>Dear Local Newspaper, @CAPS1 I have found that...</td>\n",
              "      <td>10.0</td>\n",
              "    </tr>\n",
              "    <tr>\n",
              "      <th>4</th>\n",
              "      <td>5</td>\n",
              "      <td>1</td>\n",
              "      <td>Dear @LOCATION1, I know having computers has a...</td>\n",
              "      <td>8.0</td>\n",
              "    </tr>\n",
              "    <tr>\n",
              "      <th>...</th>\n",
              "      <td>...</td>\n",
              "      <td>...</td>\n",
              "      <td>...</td>\n",
              "      <td>...</td>\n",
              "    </tr>\n",
              "    <tr>\n",
              "      <th>504</th>\n",
              "      <td>507</td>\n",
              "      <td>1</td>\n",
              "      <td>Dear local newspaper, I strongly think that ma...</td>\n",
              "      <td>10.0</td>\n",
              "    </tr>\n",
              "    <tr>\n",
              "      <th>505</th>\n",
              "      <td>508</td>\n",
              "      <td>1</td>\n",
              "      <td>Dear @CAPS1, @CAPS2 since electricity was inve...</td>\n",
              "      <td>9.0</td>\n",
              "    </tr>\n",
              "    <tr>\n",
              "      <th>506</th>\n",
              "      <td>509</td>\n",
              "      <td>1</td>\n",
              "      <td>Dear editor of local newspaper, @CAPS1 you kno...</td>\n",
              "      <td>11.0</td>\n",
              "    </tr>\n",
              "    <tr>\n",
              "      <th>507</th>\n",
              "      <td>510</td>\n",
              "      <td>1</td>\n",
              "      <td>Dear, @CAPS1 Computers do have positive effect...</td>\n",
              "      <td>7.0</td>\n",
              "    </tr>\n",
              "    <tr>\n",
              "      <th>508</th>\n",
              "      <td>511</td>\n",
              "      <td>1</td>\n",
              "      <td>Dear Newspaper, I think a computer is not some...</td>\n",
              "      <td>8.0</td>\n",
              "    </tr>\n",
              "  </tbody>\n",
              "</table>\n",
              "<p>509 rows × 4 columns</p>\n",
              "</div>"
            ],
            "text/plain": [
              "     essay_id  ...  domain1_score\n",
              "0           1  ...            8.0\n",
              "1           2  ...            9.0\n",
              "2           3  ...            7.0\n",
              "3           4  ...           10.0\n",
              "4           5  ...            8.0\n",
              "..        ...  ...            ...\n",
              "504       507  ...           10.0\n",
              "505       508  ...            9.0\n",
              "506       509  ...           11.0\n",
              "507       510  ...            7.0\n",
              "508       511  ...            8.0\n",
              "\n",
              "[509 rows x 4 columns]"
            ]
          },
          "metadata": {
            "tags": []
          },
          "execution_count": 52
        }
      ]
    },
    {
      "cell_type": "code",
      "metadata": {
        "id": "Wbv3UXfwhutO",
        "colab_type": "code",
        "outputId": "f20aa9a2-28cd-449e-f0e6-1ee15db753ca",
        "colab": {
          "base_uri": "https://localhost:8080/",
          "height": 170
        }
      },
      "source": [
        "#check details of the data\n",
        "data['essay'].apply(len).describe()"
      ],
      "execution_count": 0,
      "outputs": [
        {
          "output_type": "execute_result",
          "data": {
            "text/plain": [
              "count     509.000000\n",
              "mean     2041.404715\n",
              "std       711.074374\n",
              "min        47.000000\n",
              "25%      1589.000000\n",
              "50%      2036.000000\n",
              "75%      2492.000000\n",
              "max      4216.000000\n",
              "Name: essay, dtype: float64"
            ]
          },
          "metadata": {
            "tags": []
          },
          "execution_count": 53
        }
      ]
    },
    {
      "cell_type": "code",
      "metadata": {
        "id": "ooZ3PW2aOV6J",
        "colab_type": "code",
        "colab": {}
      },
      "source": [
        "#Visualize the Data"
      ],
      "execution_count": 0,
      "outputs": []
    },
    {
      "cell_type": "code",
      "metadata": {
        "id": "GmJfIuMBORSz",
        "colab_type": "code",
        "colab": {}
      },
      "source": [
        "import matplotlib.pyplot as plt "
      ],
      "execution_count": 0,
      "outputs": []
    },
    {
      "cell_type": "code",
      "metadata": {
        "id": "tqo55zWUOV4I",
        "colab_type": "code",
        "outputId": "20cc0323-0ea1-4614-dbe8-c51b7aecdbf0",
        "colab": {
          "base_uri": "https://localhost:8080/",
          "height": 312
        }
      },
      "source": [
        "x = [len(w.split()) for w in data['essay']]  #store no of words of each essay in a list\n",
        "\n",
        "\n",
        "n, bins, patches = plt.hist(x=x, bins='auto', color='#0504aa',alpha=0.7, rwidth=0.85)  #histogram plot\n",
        "#plt.grid(axis='y', alpha=0.75)\n",
        "plt.xlabel('No. of words')\n",
        "plt.ylabel('Frequency')\n",
        "plt.title('essay length vs freq')\n",
        "maxfreq = n.max()\n",
        "# Set a clean upper y-axis limit.\n",
        "plt.ylim(ymax=np.ceil(maxfreq / 10) * 10 if maxfreq % 10 else maxfreq + 10)"
      ],
      "execution_count": 0,
      "outputs": [
        {
          "output_type": "execute_result",
          "data": {
            "text/plain": [
              "(0.0, 70.0)"
            ]
          },
          "metadata": {
            "tags": []
          },
          "execution_count": 11
        },
        {
          "output_type": "display_data",
          "data": {
            "image/png": "[encoded data removed]",
            "text/plain": [
              "<Figure size 432x288 with 1 Axes>"
            ]
          },
          "metadata": {
            "tags": []
          }
        }
      ]
    },
    {
      "cell_type": "code",
      "metadata": {
        "id": "0D9ruQ0HtQHR",
        "colab_type": "code",
        "colab": {}
      },
      "source": [
        ""
      ],
      "execution_count": 0,
      "outputs": []
    },
    {
      "cell_type": "code",
      "metadata": {
        "id": "31lDMUj84k0R",
        "colab_type": "code",
        "colab": {}
      },
      "source": [
        "#Pre - Process Shits to be done \n",
        "\"\"\"\n",
        "1. clear out all punctuations\n",
        "2. remove worlds starting with @CAPS...\n",
        "3. \n",
        "\"\"\""
      ],
      "execution_count": 0,
      "outputs": []
    },
    {
      "cell_type": "code",
      "metadata": {
        "id": "oFVHTlNeDsV7",
        "colab_type": "code",
        "colab": {}
      },
      "source": [
        "#remove all punctuations\n",
        "data_ = [\n",
        "    [(word.replace(\",\", \"\")\n",
        "          .replace(\".\", \"\")\n",
        "          .replace(\"(\", \"\")\n",
        "          .replace(\")\", \"\")\n",
        "          .replace(\"@\", \"\")\n",
        "          .replace(\"?\", \"\")\n",
        "          .replace(\"!\", \"\")\n",
        "          .replace(\":\", \"\"))\n",
        "    for word in row.lower().split()]\n",
        "    for row in data['essay']]"
      ],
      "execution_count": 0,
      "outputs": []
    },
    {
      "cell_type": "code",
      "metadata": {
        "id": "iLzQ37auFzek",
        "colab_type": "code",
        "colab": {}
      },
      "source": [
        "#restore words to sentences\n",
        "\n",
        "str1=\"\"\n",
        "essay_d=[]\n",
        "for d in data_:\n",
        "  #print(d)\n",
        "  for i in d:\n",
        "    str1 = str1 + i + \" \"\n",
        "  essay_d.append(str1)\n",
        "  str1=\"\""
      ],
      "execution_count": 0,
      "outputs": []
    },
    {
      "cell_type": "code",
      "metadata": {
        "id": "bs9sNRazwZT4",
        "colab_type": "code",
        "outputId": "89dcfaa8-b887-4efd-a90c-9559521cf56a",
        "colab": {
          "base_uri": "https://localhost:8080/",
          "height": 54
        }
      },
      "source": [
        "essay_d[1]"
      ],
      "execution_count": 0,
      "outputs": [
        {
          "output_type": "execute_result",
          "data": {
            "text/plain": [
              "\"dear caps1 caps2 i believe that using computers will benefit us in many ways like talking and becoming friends will others through websites like facebook and mysace using computers can help us find coordibates locations and able ourselfs to millions of information also computers will benefit us by helping with jobs as in planning a house plan and typing a num1 page report for one of our jobs in less than writing it now lets go into the wonder world of technology using a computer will help us in life by talking or making friends on line many people have myspace facebooks aim these all benefit us by having conversations with one another many people believe computers are bad but how can you make friends if you can never talk to them i am very fortunate for having a computer that can help with not only school work but my social life and how i make friends computers help us with finding our locations coordibates and millions of information online if we didn't go on the internet a lot we wouldn't know how to go onto websites that month1 help us with locations and coordinates like location1 would you rather use a computer or be in location3 when your supposed to be vacationing in location2 million of information is found on the internet you can as almost every question and a computer will have it would you rather easily draw up a house plan on the computers or take num1 hours doing one by hand with ugly erazer marks all over it you are garrenteed that to find a job with a drawing like that also when appling for a job many workers must write very long papers like a num3 word essay on why this job fits you the most and many people i know don't like writing num3 words non-stopp for hours when it could take them i hav an a computer that is why computers we needed a lot now adays i hope this essay has impacted your descion on computers because they are great machines to work with the other day i showed my mom how to use a computer and she said it was the greatest invention sense sliced bread now go out and buy a computer to help you chat online with friends find locations and millions of information on one click of the button and help your self with getting a job with neat prepared printed work that your boss will love \""
            ]
          },
          "metadata": {
            "tags": []
          },
          "execution_count": 15
        }
      ]
    },
    {
      "cell_type": "code",
      "metadata": {
        "id": "f1rd9UNvwZdO",
        "colab_type": "code",
        "colab": {}
      },
      "source": [
        "new_data = pd.DataFrame(list(zip(essay_d,data['domain1_score'])),columns = ['Essay','Score'])"
      ],
      "execution_count": 0,
      "outputs": []
    },
    {
      "cell_type": "code",
      "metadata": {
        "id": "kOQwh09S4zPP",
        "colab_type": "code",
        "colab": {}
      },
      "source": [
        "#shuffle the dataset before splitting\n",
        "from sklearn.utils import shuffle\n",
        "new_data1 = shuffle(new_data)"
      ],
      "execution_count": 0,
      "outputs": []
    },
    {
      "cell_type": "code",
      "metadata": {
        "id": "rYg8flR12uWJ",
        "colab_type": "code",
        "outputId": "20c51017-3d19-468f-d5af-ea8ff383b526",
        "colab": {
          "base_uri": "https://localhost:8080/",
          "height": 139
        }
      },
      "source": [
        "train = new_data1.sample(frac=0.8)\n",
        "new_data1.drop(train.index, axis=0, inplace=True)\n",
        "valid = new_data1.sample(frac=0.5)\n",
        "new_data1.drop(valid.index, axis=0, inplace=True)\n",
        "test = new_data1\n",
        "train.shape , test.shape , valid.shape"
      ],
      "execution_count": 0,
      "outputs": [
        {
          "output_type": "stream",
          "text": [
            "/usr/local/lib/python3.6/dist-packages/pandas/core/frame.py:4117: SettingWithCopyWarning: \n",
            "A value is trying to be set on a copy of a slice from a DataFrame\n",
            "\n",
            "See the caveats in the documentation: http://pandas.pydata.org/pandas-docs/stable/user_guide/indexing.html#returning-a-view-versus-a-copy\n",
            "  errors=errors,\n"
          ],
          "name": "stderr"
        },
        {
          "output_type": "execute_result",
          "data": {
            "text/plain": [
              "((407, 2), (51, 2), (51, 2))"
            ]
          },
          "metadata": {
            "tags": []
          },
          "execution_count": 85
        }
      ]
    },
    {
      "cell_type": "code",
      "metadata": {
        "id": "e0xe2jZK31Ft",
        "colab_type": "code",
        "outputId": "0062a608-bd94-4592-be68-61699edd8f60",
        "colab": {
          "base_uri": "https://localhost:8080/",
          "height": 493
        }
      },
      "source": [
        "train , test"
      ],
      "execution_count": 0,
      "outputs": [
        {
          "output_type": "execute_result",
          "data": {
            "text/plain": [
              "(                                                 Essay  Score\n",
              " 102  dear local newspaper have you ever been runnin...    9.0\n",
              " 285  dear computer co computers have a negative eff...    4.0\n",
              " 424  to the organization1 can be a big part mof peo...   11.0\n",
              " 6    did you know that more and more people these d...   10.0\n",
              " 258  as time goes on our society becomes more advan...    9.0\n",
              " ..                                                 ...    ...\n",
              " 218  dear newspaper caps1 has lately come to my att...    9.0\n",
              " 469  organization1 caps1 technology majors support ...   12.0\n",
              " 404  i believe computers have a positive effect on ...    8.0\n",
              " 462  computers computers computers who doesn't own ...    8.0\n",
              " 471  do you like going on the computer well after y...    6.0\n",
              " \n",
              " [407 rows x 2 columns],\n",
              "                                                  Essay  Score\n",
              " 385  almost everyone is effected by computers in so...    7.0\n",
              " 443  dear location1 caps1 i strongly believe that p...   10.0\n",
              " 104  computers are used world wide everyday and mos...    9.0\n",
              " 378  dear local newspaper more and more people are ...   10.0\n",
              " 140  dear person3 of the location1 i strongly belie...   10.0\n",
              " ..                                                 ...    ...\n",
              " 287  dear newspaper i think that using your compute...    8.0\n",
              " 458  dear the local newspaper i do caps1 computers ...    8.0\n",
              " 454  welcome to the date1 in this day in age numero...   10.0\n",
              " 277  dear local newspaper i think that computers ef...    8.0\n",
              " 158  imagine standing outside the warm sun dancing ...   10.0\n",
              " \n",
              " [102 rows x 2 columns])"
            ]
          },
          "metadata": {
            "tags": []
          },
          "execution_count": 121
        }
      ]
    },
    {
      "cell_type": "code",
      "metadata": {
        "id": "wFDYaBhf31Nx",
        "colab_type": "code",
        "colab": {}
      },
      "source": [
        ""
      ],
      "execution_count": 0,
      "outputs": []
    },
    {
      "cell_type": "code",
      "metadata": {
        "id": "bRiWsJ_A4kxn",
        "colab_type": "code",
        "outputId": "79f5bf55-c9d0-4d71-a687-a5579a4a8bc2",
        "colab": {
          "base_uri": "https://localhost:8080/",
          "height": 71
        }
      },
      "source": [
        "def return_data(df):\n",
        "  return list(df['Essay']), np.array(df['Score'])\n",
        "\n",
        "\n",
        "# Apply it to the three splits\n",
        "train_essay, train_score = return_data(train)\n",
        "valid_essay, valid_score = return_data(valid)\n",
        "test_essay, test_score = return_data(test)\n",
        "train_essay[0], train_score[0]"
      ],
      "execution_count": 0,
      "outputs": [
        {
          "output_type": "execute_result",
          "data": {
            "text/plain": [
              "(\"dear local newspaper i agree that computers have a positive effect on people you learn hand - eye coordination you don't have to step out to go to the library and it can improve social skills continue reading to find out why computers we use them everyday they are teaching us something we month1 not even realize it but they are teaching us hand-eye coordination we type something and we use our eyes to look at the screen and then our hands to type one mistake and automatically our hand fix it or maybe when we are playing games online the same thing applies our eyes are looking while our hands are fast at work over the keyboard hand-eye coordination is a skill you need on sports and i believe that computers since we spend time on them are the quick way to learn that skill next how many student's parents work my parents do something it becomes difficult to walk to the library not everyone lives in walking distance to one that's when a computer helps if you have a project to do but your parents work you can just organization1 it up you might even get more information then what you can get in the library hows that you ask well for an example caps1 you had to do a project on caps2 let's just say you managed to go to a library but apparently there were only num1 books on caps2 out of which num2 were checked out you can always check it out from another library but that might not come soon enough on a survey percent1 of students said this has happened to them but the computer saved them so what else did they say hello organization1 last but not least a computer improves your social skils when i first moved here i was a very shy person when i made a caps3 i caps4 talking to people who go to my school i even became friends with them i'm not saying that you should just stop talking to people in person and use caps3 caps6 caps7 or caps8 and communicate caps9 i am saying is that if you start talking to them online you know them a little then when you talk in person you will see you have alot in common with that person and soon you can become friends another thing that is somewhat related to this i have many friends living in location1 and many cousins in location3 location2 caps9 over we caps9 know you can't travel caps9 the time sometimes you can't even get to see them thats caps10 social networks help you can keep in touch plus caps11s not even waste minutes on you phone can it get better in conclusion computers have a very positive effect on people from improving hand-eye coordination to not stepping out to go to the library and getting that project done in time with a a+ as a grade to improving your socia skills even see the data collected thank you for taking your time and effort to read this i hope it has persuaded many people \",\n",
              " 10.0)"
            ]
          },
          "metadata": {
            "tags": []
          },
          "execution_count": 86
        }
      ]
    },
    {
      "cell_type": "code",
      "metadata": {
        "id": "DovuPHikzVSG",
        "colab_type": "code",
        "colab": {}
      },
      "source": [
        ""
      ],
      "execution_count": 0,
      "outputs": []
    },
    {
      "cell_type": "code",
      "metadata": {
        "id": "jJcrMh2Q4kuV",
        "colab_type": "code",
        "colab": {}
      },
      "source": [
        "\n",
        "# Maximum vocabulary size used for tokenization\n",
        "TOP_K = 50000 \n",
        "# Sentences will be truncated/padded to this length\n",
        "MAX_SEQUENCE_LENGTH = 800"
      ],
      "execution_count": 0,
      "outputs": []
    },
    {
      "cell_type": "code",
      "metadata": {
        "id": "A7jqCpP1JOTN",
        "colab_type": "code",
        "colab": {}
      },
      "source": [
        "from keras.preprocessing.text import Tokenizer\n",
        "from tensorflow.keras.preprocessing import sequence,text"
      ],
      "execution_count": 0,
      "outputs": []
    },
    {
      "cell_type": "code",
      "metadata": {
        "id": "za3npcL34k5S",
        "colab_type": "code",
        "colab": {}
      },
      "source": [
        "\n",
        "# Create a vocabulary from training corpus\n",
        "tokenizer = text.Tokenizer(num_words=TOP_K)\n",
        "tokenizer.fit_on_texts(train_essay)"
      ],
      "execution_count": 0,
      "outputs": []
    },
    {
      "cell_type": "code",
      "metadata": {
        "id": "3fn4PM094k8n",
        "colab_type": "code",
        "outputId": "b9bfd6e6-8a6a-4728-b2f9-e3c1bd6c6828",
        "colab": {
          "base_uri": "https://localhost:8080/",
          "height": 71
        }
      },
      "source": [
        "train_essay[20] , train_score[20]"
      ],
      "execution_count": 0,
      "outputs": [
        {
          "output_type": "execute_result",
          "data": {
            "text/plain": [
              "(\"every where you look people are using computers just about everyone has one some say that computers are bad for you but they can really benefit society computers are used for research socializing and almost all of our caps1 work is done on computers one of the main things that computers provide is research information if you want to find out anything you can find it on the internet it is an efficient way to study or find information for school before the internet and computers it would take weeks to find enough information for a paper or business work this was because all information was found in books books did not always give you the information you needed whatever was written was all you got because of saearch engines and websites you can type in whatever you want to look up it is much easier to log onto a computer and type in a question than search an entire book to find an answer computers are the best way to research a topic computers are also used to socialize you can chat with almost anyone on the internet being social is one of the most important parts of life it has been proven by science that social people live longer than people who never talk to anyone the person you're talking to phnes only give you audio and that doesn't give you the some thing video chat can allow you to show someone a picture or an expression computers allow you to see people that you can't see otherwise for example if you have a relative that lives far way and you cant him or her you can see them through video that socializing through computers is pne of the best ways to talk to people our caps1 is mainly run on computers without them it would be very difficult to be aware of an on coming attack or threat the caps1 uses computers to store thir legal files of court cases laws etc it is much easier to transfer files digitally than actually sending a paper copy the store market is also run on computers you need them to see how you are doing financially computers are essential to our caps1 and economy although some experts say that computers do us no good computers benefit our society very much they help us research socialize and they help our caps1 and economy computers are essential to our way of life \",\n",
              " 10.0)"
            ]
          },
          "metadata": {
            "tags": []
          },
          "execution_count": 65
        }
      ]
    },
    {
      "cell_type": "code",
      "metadata": {
        "id": "2hQc6qZI9pE_",
        "colab_type": "code",
        "outputId": "8ca010cc-ce01-4b43-ab22-e5f19aa38ce0",
        "colab": {
          "base_uri": "https://localhost:8080/",
          "height": 34
        }
      },
      "source": [
        "len(train_essay) , len(test_essay)"
      ],
      "execution_count": 0,
      "outputs": [
        {
          "output_type": "execute_result",
          "data": {
            "text/plain": [
              "(407, 102)"
            ]
          },
          "metadata": {
            "tags": []
          },
          "execution_count": 66
        }
      ]
    },
    {
      "cell_type": "code",
      "metadata": {
        "id": "Ss1UAZYm4ksC",
        "colab_type": "code",
        "colab": {}
      },
      "source": [
        "# Preprocess the train, validation and test sets\n",
        "# Tokenize and pad sentences\n",
        "preproc_train = tokenizer.texts_to_sequences(train_essay)\n",
        "preproc_train = sequence.pad_sequences(preproc_train, maxlen=MAX_SEQUENCE_LENGTH)\n",
        "preproc_valid = tokenizer.texts_to_sequences(valid_essay)\n",
        "preproc_valid = sequence.pad_sequences(preproc_valid, maxlen=MAX_SEQUENCE_LENGTH)\n",
        "preproc_test = tokenizer.texts_to_sequences(test_essay)\n",
        "preproc_test = sequence.pad_sequences(preproc_test, maxlen=MAX_SEQUENCE_LENGTH)"
      ],
      "execution_count": 0,
      "outputs": []
    },
    {
      "cell_type": "code",
      "metadata": {
        "id": "cTcwQHm7KlxS",
        "colab_type": "code",
        "outputId": "4f33abf6-e56b-4760-9874-7f98925403a9",
        "colab": {
          "base_uri": "https://localhost:8080/",
          "height": 102
        }
      },
      "source": [
        "print(len(preproc_train[0]))\n",
        "print(len(preproc_train[10]))\n",
        "\n",
        "print(len(preproc_train))\n",
        "print(len(preproc_test))\n",
        "print(len(preproc_valid))"
      ],
      "execution_count": 0,
      "outputs": [
        {
          "output_type": "stream",
          "text": [
            "800\n",
            "800\n",
            "407\n",
            "51\n",
            "51\n"
          ],
          "name": "stdout"
        }
      ]
    },
    {
      "cell_type": "code",
      "metadata": {
        "id": "V4YSRr7Y7qz7",
        "colab_type": "code",
        "colab": {}
      },
      "source": [
        ""
      ],
      "execution_count": 0,
      "outputs": []
    },
    {
      "cell_type": "code",
      "metadata": {
        "id": "12u-z9Et4k3D",
        "colab_type": "code",
        "outputId": "e53f9186-1733-427f-cbf9-6808d6af776b",
        "colab": {
          "base_uri": "https://localhost:8080/",
          "height": 88
        }
      },
      "source": [
        "!gsutil cp gs://cloud-training-demos/courses/machine_learning/deepdive/09_sequence/text_classification/glove.6B.200d.txt glove.6B.200d.txt"
      ],
      "execution_count": 0,
      "outputs": [
        {
          "output_type": "stream",
          "text": [
            "Copying gs://cloud-training-demos/courses/machine_learning/deepdive/09_sequence/text_classification/glove.6B.200d.txt...\n",
            "/ [1 files][661.3 MiB/661.3 MiB]   35.7 MiB/s                                   \n",
            "Operation completed over 1 objects/661.3 MiB.                                    \n"
          ],
          "name": "stdout"
        }
      ]
    },
    {
      "cell_type": "code",
      "metadata": {
        "id": "AVgVweyN-qHD",
        "colab_type": "code",
        "colab": {}
      },
      "source": [
        "# Specify the hyperparameters\n",
        "filters=64\n",
        "dropout_rate=0.2\n",
        "embedding_dim=200\n",
        "kernel_size=3\n",
        "pool_size=3\n",
        "word_index=tokenizer.word_index\n",
        "embedding_path = 'glove.6B.200d.txt'\n",
        "embedding_dim=200   #the output dimension from the embedding layer to be fed to the next layer "
      ],
      "execution_count": 0,
      "outputs": []
    },
    {
      "cell_type": "code",
      "metadata": {
        "id": "au1pPd9kKjXE",
        "colab_type": "code",
        "colab": {}
      },
      "source": [
        "#word_index"
      ],
      "execution_count": 0,
      "outputs": []
    },
    {
      "cell_type": "code",
      "metadata": {
        "id": "3Db6RyhL9pOe",
        "colab_type": "code",
        "colab": {}
      },
      "source": [
        "def get_embedding_matrix(word_index, embedding_path, embedding_dim):\n",
        "  embedding_matrix_all = {}\n",
        "  with open(embedding_path) as f:\n",
        "    for line in f:  # Every line contains word followed by the vector value\n",
        "        values = line.split()\n",
        "        word = values[0]\n",
        "        coefs = np.asarray(values[1:], dtype='float32')\n",
        "        embedding_matrix_all[word] = coefs\n",
        "\n",
        "        \n",
        "# Prepare embedding matrix with just the words in our word_index dictionary\n",
        "  num_words = min(len(word_index) + 1, TOP_K)\n",
        "  embedding_matrix = np.zeros((num_words, embedding_dim))\n",
        "  for word, i in word_index.items():\n",
        "    if i >= TOP_K:\n",
        "        continue\n",
        "    embedding_vector = embedding_matrix_all.get(word)\n",
        "    if embedding_vector is not None:\n",
        "        # Words not found in embedding index will be all-zeros.\n",
        "        embedding_matrix[i] = embedding_vector\n",
        "  \n",
        "  return embedding_matrix"
      ],
      "execution_count": 0,
      "outputs": []
    },
    {
      "cell_type": "code",
      "metadata": {
        "id": "fRYcNVyQ4SGq",
        "colab_type": "code",
        "colab": {}
      },
      "source": [
        "from keras.layers import Embedding, LSTM, Dense, Dropout, Lambda, Flatten\n",
        "from keras.models import Sequential, load_model, model_from_config\n",
        "import keras.backend as K"
      ],
      "execution_count": 0,
      "outputs": []
    },
    {
      "cell_type": "code",
      "metadata": {
        "id": "KAgULRse_AlM",
        "colab_type": "code",
        "outputId": "fd08aef4-ddec-47b9-edc1-2f04e1227dd3",
        "colab": {
          "base_uri": "https://localhost:8080/",
          "height": 323
        }
      },
      "source": [
        "# Create model instance\n",
        "model = Sequential()\n",
        "num_features = min(len(word_index) + 1, TOP_K)\n",
        "# Add embedding layer - GloVe embeddings\n",
        "model.add(Embedding(input_dim=num_features,\n",
        "              output_dim=embedding_dim,\n",
        "              input_length=MAX_SEQUENCE_LENGTH,\n",
        "              weights=[get_embedding_matrix(word_index, \n",
        "                              embedding_path, embedding_dim)],\n",
        "              trainable=True))\n",
        "\n",
        "\n",
        "\n",
        "#Add more layers\n",
        "\n",
        "model.add(LSTM(200, dropout=0.4, recurrent_dropout=0.4, input_shape=[1, 200], return_sequences=True))\n",
        "model.add(LSTM(64, recurrent_dropout=0.4))\n",
        "model.add(Dropout(0.5))\n",
        "model.add(Dense(1, activation='relu'))\n",
        "\n",
        "model.compile(loss='mean_squared_error', optimizer='rmsprop', metrics=['mae'])\n",
        "model.summary()\n",
        "\n"
      ],
      "execution_count": 0,
      "outputs": [
        {
          "output_type": "stream",
          "text": [
            "Model: \"sequential_9\"\n",
            "_________________________________________________________________\n",
            "Layer (type)                 Output Shape              Param #   \n",
            "=================================================================\n",
            "embedding_5 (Embedding)      (None, 800, 200)          1425000   \n",
            "_________________________________________________________________\n",
            "lstm_9 (LSTM)                (None, 800, 200)          320800    \n",
            "_________________________________________________________________\n",
            "lstm_10 (LSTM)               (None, 64)                67840     \n",
            "_________________________________________________________________\n",
            "dropout_5 (Dropout)          (None, 64)                0         \n",
            "_________________________________________________________________\n",
            "dense_5 (Dense)              (None, 1)                 65        \n",
            "=================================================================\n",
            "Total params: 1,813,705\n",
            "Trainable params: 1,813,705\n",
            "Non-trainable params: 0\n",
            "_________________________________________________________________\n"
          ],
          "name": "stdout"
        }
      ]
    },
    {
      "cell_type": "code",
      "metadata": {
        "id": "dMJHaw7cKTn8",
        "colab_type": "code",
        "outputId": "6e2be93e-b0b6-426d-ab7d-0b8c60f8df70",
        "colab": {
          "base_uri": "https://localhost:8080/",
          "height": 34
        }
      },
      "source": [
        "len(preproc_train) , len(preproc_test)"
      ],
      "execution_count": 0,
      "outputs": [
        {
          "output_type": "execute_result",
          "data": {
            "text/plain": [
              "(407, 102)"
            ]
          },
          "metadata": {
            "tags": []
          },
          "execution_count": 74
        }
      ]
    },
    {
      "cell_type": "code",
      "metadata": {
        "id": "2wSQWxxe-qN9",
        "colab_type": "code",
        "outputId": "035f7013-3077-4282-d949-9267a6716c8f",
        "colab": {
          "base_uri": "https://localhost:8080/",
          "height": 734
        }
      },
      "source": [
        "H = model.fit(preproc_train,\n",
        "         train_score,\n",
        "         validation_data=(preproc_valid, valid_score),\n",
        "         batch_size=128,\n",
        "         epochs=20,\n",
        "         verbose=1)"
      ],
      "execution_count": 0,
      "outputs": [
        {
          "output_type": "stream",
          "text": [
            "Train on 407 samples, validate on 51 samples\n",
            "Epoch 1/20\n",
            "407/407 [==============================] - 22s 55ms/step - loss: 45.3034 - mean_absolute_error: 6.2942 - val_loss: 2.3144 - val_mean_absolute_error: 1.1919\n",
            "Epoch 2/20\n",
            "407/407 [==============================] - 18s 45ms/step - loss: 5.1128 - mean_absolute_error: 1.8424 - val_loss: 1.9562 - val_mean_absolute_error: 1.0603\n",
            "Epoch 3/20\n",
            "407/407 [==============================] - 18s 45ms/step - loss: 4.4723 - mean_absolute_error: 1.6338 - val_loss: 2.1215 - val_mean_absolute_error: 1.1496\n",
            "Epoch 4/20\n",
            "407/407 [==============================] - 18s 45ms/step - loss: 4.1193 - mean_absolute_error: 1.6061 - val_loss: 2.1838 - val_mean_absolute_error: 1.1730\n",
            "Epoch 5/20\n",
            "407/407 [==============================] - 18s 44ms/step - loss: 4.2448 - mean_absolute_error: 1.6345 - val_loss: 1.9084 - val_mean_absolute_error: 1.0206\n",
            "Epoch 6/20\n",
            "407/407 [==============================] - 18s 44ms/step - loss: 4.2873 - mean_absolute_error: 1.6413 - val_loss: 1.9286 - val_mean_absolute_error: 1.0392\n",
            "Epoch 7/20\n",
            "407/407 [==============================] - 18s 45ms/step - loss: 4.3660 - mean_absolute_error: 1.6315 - val_loss: 1.8817 - val_mean_absolute_error: 0.9747\n",
            "Epoch 8/20\n",
            "407/407 [==============================] - 18s 44ms/step - loss: 3.8764 - mean_absolute_error: 1.5465 - val_loss: 2.2146 - val_mean_absolute_error: 1.1838\n",
            "Epoch 9/20\n",
            "407/407 [==============================] - 18s 44ms/step - loss: 3.9617 - mean_absolute_error: 1.5976 - val_loss: 2.7363 - val_mean_absolute_error: 1.3367\n",
            "Epoch 10/20\n",
            "407/407 [==============================] - 18s 44ms/step - loss: 4.0346 - mean_absolute_error: 1.5964 - val_loss: 2.1498 - val_mean_absolute_error: 1.1585\n",
            "Epoch 11/20\n",
            "407/407 [==============================] - 18s 44ms/step - loss: 3.8448 - mean_absolute_error: 1.5465 - val_loss: 2.2546 - val_mean_absolute_error: 1.1919\n",
            "Epoch 12/20\n",
            "407/407 [==============================] - 18s 44ms/step - loss: 4.0410 - mean_absolute_error: 1.6025 - val_loss: 1.9982 - val_mean_absolute_error: 1.0499\n",
            "Epoch 13/20\n",
            "407/407 [==============================] - 18s 44ms/step - loss: 4.3966 - mean_absolute_error: 1.6846 - val_loss: 2.3667 - val_mean_absolute_error: 1.2284\n",
            "Epoch 14/20\n",
            "407/407 [==============================] - 18s 44ms/step - loss: 3.9457 - mean_absolute_error: 1.5377 - val_loss: 2.5180 - val_mean_absolute_error: 1.2697\n",
            "Epoch 15/20\n",
            "407/407 [==============================] - 18s 44ms/step - loss: 3.9274 - mean_absolute_error: 1.5647 - val_loss: 2.5407 - val_mean_absolute_error: 1.2743\n",
            "Epoch 16/20\n",
            "407/407 [==============================] - 18s 44ms/step - loss: 4.2662 - mean_absolute_error: 1.6312 - val_loss: 1.8642 - val_mean_absolute_error: 0.9435\n",
            "Epoch 17/20\n",
            "407/407 [==============================] - 18s 44ms/step - loss: 4.0855 - mean_absolute_error: 1.5985 - val_loss: 2.1434 - val_mean_absolute_error: 1.1504\n",
            "Epoch 18/20\n",
            "407/407 [==============================] - 18s 44ms/step - loss: 4.1487 - mean_absolute_error: 1.5948 - val_loss: 3.2440 - val_mean_absolute_error: 1.5133\n",
            "Epoch 19/20\n",
            "407/407 [==============================] - 18s 44ms/step - loss: 3.9423 - mean_absolute_error: 1.5403 - val_loss: 1.9903 - val_mean_absolute_error: 1.0459\n",
            "Epoch 20/20\n",
            "407/407 [==============================] - 18s 44ms/step - loss: 4.2879 - mean_absolute_error: 1.6621 - val_loss: 1.8674 - val_mean_absolute_error: 0.9595\n"
          ],
          "name": "stdout"
        }
      ]
    },
    {
      "cell_type": "code",
      "metadata": {
        "id": "Oe6zWsX--qWV",
        "colab_type": "code",
        "colab": {}
      },
      "source": [
        ""
      ],
      "execution_count": 0,
      "outputs": []
    },
    {
      "cell_type": "code",
      "metadata": {
        "id": "DTtYe6-6-qeX",
        "colab_type": "code",
        "colab": {}
      },
      "source": [
        "y_pred = model.predict(preproc_test)\n",
        "\n"
      ],
      "execution_count": 0,
      "outputs": []
    },
    {
      "cell_type": "code",
      "metadata": {
        "id": "hPI6OP1-PVlK",
        "colab_type": "code",
        "outputId": "e1301c4f-36f0-4ff7-c7c4-a946a2a65e08",
        "colab": {
          "base_uri": "https://localhost:8080/",
          "height": 884
        }
      },
      "source": [
        "y_pred"
      ],
      "execution_count": 0,
      "outputs": [
        {
          "output_type": "execute_result",
          "data": {
            "text/plain": [
              "array([[8.095209 ],\n",
              "       [8.213239 ],\n",
              "       [8.212238 ],\n",
              "       [8.237536 ],\n",
              "       [8.082726 ],\n",
              "       [8.09371  ],\n",
              "       [8.156872 ],\n",
              "       [8.22778  ],\n",
              "       [7.938747 ],\n",
              "       [8.293181 ],\n",
              "       [8.101501 ],\n",
              "       [8.289715 ],\n",
              "       [8.199883 ],\n",
              "       [8.076947 ],\n",
              "       [8.07477  ],\n",
              "       [8.21972  ],\n",
              "       [8.1118555],\n",
              "       [8.078442 ],\n",
              "       [8.194707 ],\n",
              "       [8.102744 ],\n",
              "       [8.2219715],\n",
              "       [8.034906 ],\n",
              "       [8.173407 ],\n",
              "       [8.208634 ],\n",
              "       [8.211171 ],\n",
              "       [8.013117 ],\n",
              "       [8.194101 ],\n",
              "       [8.2051325],\n",
              "       [7.9890704],\n",
              "       [8.156827 ],\n",
              "       [8.026953 ],\n",
              "       [8.16787  ],\n",
              "       [8.272773 ],\n",
              "       [7.9579453],\n",
              "       [8.2128105],\n",
              "       [8.132084 ],\n",
              "       [8.173044 ],\n",
              "       [8.105136 ],\n",
              "       [8.019548 ],\n",
              "       [8.193126 ],\n",
              "       [8.020308 ],\n",
              "       [8.25285  ],\n",
              "       [8.281563 ],\n",
              "       [8.26177  ],\n",
              "       [8.114585 ],\n",
              "       [8.172244 ],\n",
              "       [7.9605565],\n",
              "       [8.166582 ],\n",
              "       [8.08457  ],\n",
              "       [8.09418  ],\n",
              "       [7.9543376]], dtype=float32)"
            ]
          },
          "metadata": {
            "tags": []
          },
          "execution_count": 112
        }
      ]
    },
    {
      "cell_type": "code",
      "metadata": {
        "id": "455pGe0KIn1v",
        "colab_type": "code",
        "outputId": "f6eb1a13-64d7-48f8-e35a-ea1320c6e33a",
        "colab": {
          "base_uri": "https://localhost:8080/",
          "height": 884
        }
      },
      "source": [
        "y_pred"
      ],
      "execution_count": 0,
      "outputs": [
        {
          "output_type": "execute_result",
          "data": {
            "text/plain": [
              "array([[8.663229 ],\n",
              "       [8.705473 ],\n",
              "       [8.67513  ],\n",
              "       [8.701564 ],\n",
              "       [8.678781 ],\n",
              "       [8.655418 ],\n",
              "       [8.705394 ],\n",
              "       [8.677866 ],\n",
              "       [8.596626 ],\n",
              "       [8.722103 ],\n",
              "       [8.680925 ],\n",
              "       [8.707084 ],\n",
              "       [8.672893 ],\n",
              "       [8.683405 ],\n",
              "       [8.682431 ],\n",
              "       [8.688066 ],\n",
              "       [8.670352 ],\n",
              "       [8.62567  ],\n",
              "       [8.70251  ],\n",
              "       [8.67434  ],\n",
              "       [8.6909685],\n",
              "       [8.641421 ],\n",
              "       [8.7036085],\n",
              "       [8.718171 ],\n",
              "       [8.691477 ],\n",
              "       [8.657119 ],\n",
              "       [8.674844 ],\n",
              "       [8.698331 ],\n",
              "       [8.645318 ],\n",
              "       [8.683467 ],\n",
              "       [8.650198 ],\n",
              "       [8.682765 ],\n",
              "       [8.700021 ],\n",
              "       [8.622052 ],\n",
              "       [8.676643 ],\n",
              "       [8.667711 ],\n",
              "       [8.672179 ],\n",
              "       [8.666583 ],\n",
              "       [8.634212 ],\n",
              "       [8.693568 ],\n",
              "       [8.627288 ],\n",
              "       [8.712384 ],\n",
              "       [8.698703 ],\n",
              "       [8.698049 ],\n",
              "       [8.660689 ],\n",
              "       [8.673818 ],\n",
              "       [8.623857 ],\n",
              "       [8.698941 ],\n",
              "       [8.6648445],\n",
              "       [8.672067 ],\n",
              "       [8.645912 ]], dtype=float32)"
            ]
          },
          "metadata": {
            "tags": []
          },
          "execution_count": 96
        }
      ]
    },
    {
      "cell_type": "code",
      "metadata": {
        "id": "ramRis0T-qb2",
        "colab_type": "code",
        "outputId": "25035fe7-73e9-4cf2-ca1f-c24580e495d1",
        "colab": {
          "base_uri": "https://localhost:8080/",
          "height": 68
        }
      },
      "source": [
        "loss, accuracy = model.evaluate(preproc_test,test_score)\n",
        "\n",
        "print(\"Loss: \", loss)\n",
        "print(\"Accuracy: \", accuracy)"
      ],
      "execution_count": 0,
      "outputs": [
        {
          "output_type": "stream",
          "text": [
            "51/51 [==============================] - 1s 15ms/step\n",
            "Loss:  2.8605513689564726\n",
            "Accuracy:  1.1328482137006872\n"
          ],
          "name": "stdout"
        }
      ]
    },
    {
      "cell_type": "code",
      "metadata": {
        "id": "KUUm-Fbr-qZR",
        "colab_type": "code",
        "colab": {}
      },
      "source": [
        ""
      ],
      "execution_count": 0,
      "outputs": []
    },
    {
      "cell_type": "code",
      "metadata": {
        "id": "FKxcJNGq8KSH",
        "colab_type": "code",
        "colab": {}
      },
      "source": [
        ""
      ],
      "execution_count": 0,
      "outputs": []
    },
    {
      "cell_type": "code",
      "metadata": {
        "id": "mmydzxsJ8KYh",
        "colab_type": "code",
        "colab": {}
      },
      "source": [
        ""
      ],
      "execution_count": 0,
      "outputs": []
    },
    {
      "cell_type": "code",
      "metadata": {
        "id": "LPfo65588KeC",
        "colab_type": "code",
        "colab": {}
      },
      "source": [
        ""
      ],
      "execution_count": 0,
      "outputs": []
    },
    {
      "cell_type": "code",
      "metadata": {
        "id": "7CUQaTmY8KmI",
        "colab_type": "code",
        "colab": {}
      },
      "source": [
        ""
      ],
      "execution_count": 0,
      "outputs": []
    },
    {
      "cell_type": "code",
      "metadata": {
        "id": "7DiJOltX8Kyw",
        "colab_type": "code",
        "colab": {}
      },
      "source": [
        ""
      ],
      "execution_count": 0,
      "outputs": []
    },
    {
      "cell_type": "markdown",
      "metadata": {
        "id": "-1pkAMIm_ub9",
        "colab_type": "text"
      },
      "source": [
        "#Previous Approaches"
      ]
    },
    {
      "cell_type": "code",
      "metadata": {
        "id": "nPF4cWIkhun-",
        "colab_type": "code",
        "colab": {}
      },
      "source": [
        "from gensim.models import Word2Vec , KeyedVectors\n",
        "import nltk\n"
      ],
      "execution_count": 0,
      "outputs": []
    },
    {
      "cell_type": "code",
      "metadata": {
        "id": "xSKWxi_MjwSL",
        "colab_type": "code",
        "outputId": "3aa85d68-0adf-4b19-cfb7-79c06ab94a48",
        "colab": {
          "base_uri": "https://localhost:8080/",
          "height": 68
        }
      },
      "source": [
        "nltk.download('punkt')"
      ],
      "execution_count": 0,
      "outputs": [
        {
          "output_type": "stream",
          "text": [
            "[nltk_data] Downloading package punkt to /root/nltk_data...\n",
            "[nltk_data]   Unzipping tokenizers/punkt.zip.\n"
          ],
          "name": "stdout"
        },
        {
          "output_type": "execute_result",
          "data": {
            "text/plain": [
              "True"
            ]
          },
          "metadata": {
            "tags": []
          },
          "execution_count": 8
        }
      ]
    },
    {
      "cell_type": "code",
      "metadata": {
        "id": "cho2ep0fhukK",
        "colab_type": "code",
        "colab": {}
      },
      "source": [
        "essay_vec = [nltk.word_tokenize(i) for i in data['essay']]"
      ],
      "execution_count": 0,
      "outputs": []
    },
    {
      "cell_type": "code",
      "metadata": {
        "id": "V0bCOWbxhubc",
        "colab_type": "code",
        "outputId": "988e9c1b-6630-4762-bea7-1e2877dd15a2",
        "colab": {
          "base_uri": "https://localhost:8080/"
        }
      },
      "source": [
        "print(data['essay'][0])\n",
        "print(essay_vec[0])\n"
      ],
      "execution_count": 0,
      "outputs": [
        {
          "output_type": "stream",
          "text": [
            "Dear local newspaper, I think effects computers have on people are great learning skills/affects because they give us time to chat with friends/new people, helps us learn about the globe(astronomy) and keeps us out of troble! Thing about! Dont you think so? How would you feel if your teenager is always on the phone with friends! Do you ever time to chat with your friends or buisness partner about things. Well now - there's a new way to chat the computer, theirs plenty of sites on the internet to do so: @ORGANIZATION1, @ORGANIZATION2, @CAPS1, facebook, myspace ect. Just think now while your setting up meeting with your boss on the computer, your teenager is having fun on the phone not rushing to get off cause you want to use it. How did you learn about other countrys/states outside of yours? Well I have by computer/internet, it's a new way to learn about what going on in our time! You might think your child spends a lot of time on the computer, but ask them so question about the economy, sea floor spreading or even about the @DATE1's you'll be surprise at how much he/she knows. Believe it or not the computer is much interesting then in class all day reading out of books. If your child is home on your computer or at a local library, it's better than being out with friends being fresh, or being perpressured to doing something they know isnt right. You might not know where your child is, @CAPS2 forbidde in a hospital bed because of a drive-by. Rather than your child on the computer learning, chatting or just playing games, safe and sound in your home or community place. Now I hope you have reached a point to understand and agree with me, because computers can have great effects on you or child because it gives us time to chat with friends/new people, helps us learn about the globe and believe or not keeps us out of troble. Thank you for listening.\n",
            "['Dear', 'local', 'newspaper', ',', 'I', 'think', 'effects', 'computers', 'have', 'on', 'people', 'are', 'great', 'learning', 'skills/affects', 'because', 'they', 'give', 'us', 'time', 'to', 'chat', 'with', 'friends/new', 'people', ',', 'helps', 'us', 'learn', 'about', 'the', 'globe', '(', 'astronomy', ')', 'and', 'keeps', 'us', 'out', 'of', 'troble', '!', 'Thing', 'about', '!', 'Dont', 'you', 'think', 'so', '?', 'How', 'would', 'you', 'feel', 'if', 'your', 'teenager', 'is', 'always', 'on', 'the', 'phone', 'with', 'friends', '!', 'Do', 'you', 'ever', 'time', 'to', 'chat', 'with', 'your', 'friends', 'or', 'buisness', 'partner', 'about', 'things', '.', 'Well', 'now', '-', 'there', \"'s\", 'a', 'new', 'way', 'to', 'chat', 'the', 'computer', ',', 'theirs', 'plenty', 'of', 'sites', 'on', 'the', 'internet', 'to', 'do', 'so', ':', '@', 'ORGANIZATION1', ',', '@', 'ORGANIZATION2', ',', '@', 'CAPS1', ',', 'facebook', ',', 'myspace', 'ect', '.', 'Just', 'think', 'now', 'while', 'your', 'setting', 'up', 'meeting', 'with', 'your', 'boss', 'on', 'the', 'computer', ',', 'your', 'teenager', 'is', 'having', 'fun', 'on', 'the', 'phone', 'not', 'rushing', 'to', 'get', 'off', 'cause', 'you', 'want', 'to', 'use', 'it', '.', 'How', 'did', 'you', 'learn', 'about', 'other', 'countrys/states', 'outside', 'of', 'yours', '?', 'Well', 'I', 'have', 'by', 'computer/internet', ',', 'it', \"'s\", 'a', 'new', 'way', 'to', 'learn', 'about', 'what', 'going', 'on', 'in', 'our', 'time', '!', 'You', 'might', 'think', 'your', 'child', 'spends', 'a', 'lot', 'of', 'time', 'on', 'the', 'computer', ',', 'but', 'ask', 'them', 'so', 'question', 'about', 'the', 'economy', ',', 'sea', 'floor', 'spreading', 'or', 'even', 'about', 'the', '@', 'DATE1', \"'s\", 'you', \"'ll\", 'be', 'surprise', 'at', 'how', 'much', 'he/she', 'knows', '.', 'Believe', 'it', 'or', 'not', 'the', 'computer', 'is', 'much', 'interesting', 'then', 'in', 'class', 'all', 'day', 'reading', 'out', 'of', 'books', '.', 'If', 'your', 'child', 'is', 'home', 'on', 'your', 'computer', 'or', 'at', 'a', 'local', 'library', ',', 'it', \"'s\", 'better', 'than', 'being', 'out', 'with', 'friends', 'being', 'fresh', ',', 'or', 'being', 'perpressured', 'to', 'doing', 'something', 'they', 'know', 'isnt', 'right', '.', 'You', 'might', 'not', 'know', 'where', 'your', 'child', 'is', ',', '@', 'CAPS2', 'forbidde', 'in', 'a', 'hospital', 'bed', 'because', 'of', 'a', 'drive-by', '.', 'Rather', 'than', 'your', 'child', 'on', 'the', 'computer', 'learning', ',', 'chatting', 'or', 'just', 'playing', 'games', ',', 'safe', 'and', 'sound', 'in', 'your', 'home', 'or', 'community', 'place', '.', 'Now', 'I', 'hope', 'you', 'have', 'reached', 'a', 'point', 'to', 'understand', 'and', 'agree', 'with', 'me', ',', 'because', 'computers', 'can', 'have', 'great', 'effects', 'on', 'you', 'or', 'child', 'because', 'it', 'gives', 'us', 'time', 'to', 'chat', 'with', 'friends/new', 'people', ',', 'helps', 'us', 'learn', 'about', 'the', 'globe', 'and', 'believe', 'or', 'not', 'keeps', 'us', 'out', 'of', 'troble', '.', 'Thank', 'you', 'for', 'listening', '.']\n"
          ],
          "name": "stdout"
        }
      ]
    },
    {
      "cell_type": "code",
      "metadata": {
        "id": "vdfSVZaHhuSv",
        "colab_type": "code",
        "colab": {}
      },
      "source": [
        ""
      ],
      "execution_count": 0,
      "outputs": []
    },
    {
      "cell_type": "code",
      "metadata": {
        "id": "PN5sg90ohsfG",
        "colab_type": "code",
        "colab": {}
      },
      "source": [
        ""
      ],
      "execution_count": 0,
      "outputs": []
    },
    {
      "cell_type": "code",
      "metadata": {
        "id": "8EcHhMGOzZo-",
        "colab_type": "code",
        "outputId": "88861a10-d868-4e47-fb3d-648fb8c9c7c7",
        "colab": {
          "base_uri": "https://localhost:8080/",
          "height": 97
        }
      },
      "source": [
        "from sklearn.preprocessing import LabelEncoder\n",
        "from keras.utils import to_categorical\n",
        "from keras.preprocessing.text import Tokenizer\n",
        "from keras.preprocessing.sequence import pad_sequences\n",
        "from keras.utils import to_categorical\n",
        "from sklearn.model_selection import train_test_split"
      ],
      "execution_count": 0,
      "outputs": [
        {
          "output_type": "stream",
          "text": [
            "Using TensorFlow backend.\n"
          ],
          "name": "stderr"
        },
        {
          "output_type": "display_data",
          "data": {
            "text/html": [
              "<p style=\"color: red;\">\n",
              "The default version of TensorFlow in Colab will soon switch to TensorFlow 2.x.<br>\n",
              "We recommend you <a href=\"https://www.tensorflow.org/guide/migrate\" target=\"_blank\">upgrade</a> now \n",
              "or ensure your notebook will continue to use TensorFlow 1.x via the <code>%tensorflow_version 1.x</code> magic:\n",
              "<a href=\"https://colab.research.google.com/notebooks/tensorflow_version.ipynb\" target=\"_blank\">more info</a>.</p>\n"
            ],
            "text/plain": [
              "<IPython.core.display.HTML object>"
            ]
          },
          "metadata": {
            "tags": []
          }
        }
      ]
    },
    {
      "cell_type": "code",
      "metadata": {
        "id": "fwdsxpb1zZva",
        "colab_type": "code",
        "colab": {}
      },
      "source": [
        "X=data['essay'].values\n",
        "Y=data['domain1_score'].values\n",
        "#encoder=LabelEncoder()\n",
        "#Y=encoder.fit_transform(Y)\n",
        "#Y=to_categorical(Y)\n",
        "tokenizer = Tokenizer(num_words=2500,split=' ')\n",
        "tokenizer.fit_on_texts(X)\n",
        "X = tokenizer.texts_to_sequences(X)\n",
        "X = pad_sequences(X)"
      ],
      "execution_count": 0,
      "outputs": []
    },
    {
      "cell_type": "code",
      "metadata": {
        "id": "qiguJjQhzZ0l",
        "colab_type": "code",
        "outputId": "b210d329-3560-4f9a-d117-4f5d4fd2a351",
        "colab": {
          "base_uri": "https://localhost:8080/",
          "height": 34
        }
      },
      "source": [
        "len(X[20])"
      ],
      "execution_count": 0,
      "outputs": [
        {
          "output_type": "execute_result",
          "data": {
            "text/plain": [
              "978"
            ]
          },
          "metadata": {
            "tags": []
          },
          "execution_count": 37
        }
      ]
    },
    {
      "cell_type": "code",
      "metadata": {
        "id": "bf9ywLC3zZ4c",
        "colab_type": "code",
        "colab": {}
      },
      "source": [
        "X_train, X_test, y_train, y_test = train_test_split(X, Y, test_size = 0.3)"
      ],
      "execution_count": 0,
      "outputs": []
    },
    {
      "cell_type": "code",
      "metadata": {
        "id": "U6hJl3rrzZ79",
        "colab_type": "code",
        "colab": {}
      },
      "source": [
        "X_train = np.reshape(X_train, (X_train.shape[0], 1, X_train.shape[1]))\n",
        "X_test = np.reshape(X_test, (X_test.shape[0], 1, X_test.shape[1]))"
      ],
      "execution_count": 0,
      "outputs": []
    },
    {
      "cell_type": "code",
      "metadata": {
        "id": "m26nFfFszZ_C",
        "colab_type": "code",
        "outputId": "5dc2d58c-495c-4a4c-da4c-907b00d24d57",
        "colab": {
          "base_uri": "https://localhost:8080/",
          "height": 34
        }
      },
      "source": [
        "Y.shape"
      ],
      "execution_count": 0,
      "outputs": [
        {
          "output_type": "execute_result",
          "data": {
            "text/plain": [
              "(12978,)"
            ]
          },
          "metadata": {
            "tags": []
          },
          "execution_count": 59
        }
      ]
    },
    {
      "cell_type": "markdown",
      "metadata": {
        "id": "sWvZqB8TRzQs",
        "colab_type": "text"
      },
      "source": [
        "# Vectorizing the DataSet"
      ]
    },
    {
      "cell_type": "code",
      "metadata": {
        "id": "y8m6vP2mHacF",
        "colab_type": "code",
        "colab": {}
      },
      "source": [
        "data_ = [\n",
        "    [(word.replace(\",\", \"\")\n",
        "          .replace(\".\", \"\")\n",
        "          .replace(\"(\", \"\")\n",
        "          .replace(\")\", \"\"))\n",
        "    for word in row.lower().split()]\n",
        "    for row in data['essay']]\n",
        "  "
      ],
      "execution_count": 0,
      "outputs": []
    },
    {
      "cell_type": "code",
      "metadata": {
        "id": "750Cv2kbHag3",
        "colab_type": "code",
        "outputId": "3406dde2-4f76-4da6-fb2d-636f23441aa5",
        "colab": {
          "base_uri": "https://localhost:8080/",
          "height": 34
        }
      },
      "source": [
        "len(data_[10])"
      ],
      "execution_count": 0,
      "outputs": [
        {
          "output_type": "execute_result",
          "data": {
            "text/plain": [
              "325"
            ]
          },
          "metadata": {
            "tags": []
          },
          "execution_count": 10
        }
      ]
    },
    {
      "cell_type": "code",
      "metadata": {
        "id": "7lAFi_aIHalL",
        "colab_type": "code",
        "colab": {}
      },
      "source": [
        "def computeReviewTFDict(essay):\n",
        "    #Counts the number of times the word appears in an essay\n",
        "    reviewTFDict = {}\n",
        "    for word in essay:\n",
        "        if word in reviewTFDict:\n",
        "            reviewTFDict[word] += 1\n",
        "        else:\n",
        "            reviewTFDict[word] = 1\n",
        "    #Computes tf for each word           \n",
        "    for word in reviewTFDict:\n",
        "        reviewTFDict[word] = reviewTFDict[word] / len(essay)\n",
        "    return reviewTFDict"
      ],
      "execution_count": 0,
      "outputs": []
    },
    {
      "cell_type": "code",
      "metadata": {
        "id": "PBiMOCkNHael",
        "colab_type": "code",
        "colab": {}
      },
      "source": [
        "#Computing TF\n",
        "\n",
        "tfdict = []\n",
        "for essay in data_:\n",
        "  tfdict.append(computeReviewTFDict(essay))"
      ],
      "execution_count": 0,
      "outputs": []
    },
    {
      "cell_type": "code",
      "metadata": {
        "id": "ybvTxBKuHaai",
        "colab_type": "code",
        "outputId": "9ce8ded8-7345-46e9-fb90-1dd79dab3f25",
        "colab": {
          "base_uri": "https://localhost:8080/",
          "height": 1000
        }
      },
      "source": [
        "tfdict[0]"
      ],
      "execution_count": 0,
      "outputs": [
        {
          "output_type": "execute_result",
          "data": {
            "text/plain": [
              "{'-': 0.0029585798816568047,\n",
              " '@caps1': 0.0029585798816568047,\n",
              " '@caps2': 0.0029585798816568047,\n",
              " \"@date1's\": 0.0029585798816568047,\n",
              " '@organization1': 0.0029585798816568047,\n",
              " '@organization2': 0.0029585798816568047,\n",
              " 'a': 0.020710059171597635,\n",
              " 'about': 0.020710059171597635,\n",
              " 'about!': 0.0029585798816568047,\n",
              " 'agree': 0.0029585798816568047,\n",
              " 'all': 0.0029585798816568047,\n",
              " 'always': 0.0029585798816568047,\n",
              " 'and': 0.011834319526627219,\n",
              " 'are': 0.0029585798816568047,\n",
              " 'ask': 0.0029585798816568047,\n",
              " 'at': 0.005917159763313609,\n",
              " 'be': 0.0029585798816568047,\n",
              " 'because': 0.011834319526627219,\n",
              " 'bed': 0.0029585798816568047,\n",
              " 'being': 0.008875739644970414,\n",
              " 'believe': 0.005917159763313609,\n",
              " 'better': 0.0029585798816568047,\n",
              " 'books': 0.0029585798816568047,\n",
              " 'boss': 0.0029585798816568047,\n",
              " 'buisness': 0.0029585798816568047,\n",
              " 'but': 0.0029585798816568047,\n",
              " 'by': 0.0029585798816568047,\n",
              " 'can': 0.0029585798816568047,\n",
              " 'cause': 0.0029585798816568047,\n",
              " 'chat': 0.011834319526627219,\n",
              " 'chatting': 0.0029585798816568047,\n",
              " 'child': 0.014792899408284023,\n",
              " 'class': 0.0029585798816568047,\n",
              " 'community': 0.0029585798816568047,\n",
              " 'computer': 0.01775147928994083,\n",
              " 'computer/internet': 0.0029585798816568047,\n",
              " 'computers': 0.005917159763313609,\n",
              " 'countrys/states': 0.0029585798816568047,\n",
              " 'day': 0.0029585798816568047,\n",
              " 'dear': 0.0029585798816568047,\n",
              " 'did': 0.0029585798816568047,\n",
              " 'do': 0.005917159763313609,\n",
              " 'doing': 0.0029585798816568047,\n",
              " 'dont': 0.0029585798816568047,\n",
              " 'drive-by': 0.0029585798816568047,\n",
              " 'economy': 0.0029585798816568047,\n",
              " 'ect': 0.0029585798816568047,\n",
              " 'effects': 0.005917159763313609,\n",
              " 'even': 0.0029585798816568047,\n",
              " 'ever': 0.0029585798816568047,\n",
              " 'facebook': 0.0029585798816568047,\n",
              " 'feel': 0.0029585798816568047,\n",
              " 'floor': 0.0029585798816568047,\n",
              " 'for': 0.0029585798816568047,\n",
              " 'forbidde': 0.0029585798816568047,\n",
              " 'fresh': 0.0029585798816568047,\n",
              " 'friends': 0.005917159763313609,\n",
              " 'friends!': 0.0029585798816568047,\n",
              " 'friends/new': 0.005917159763313609,\n",
              " 'fun': 0.0029585798816568047,\n",
              " 'games': 0.0029585798816568047,\n",
              " 'get': 0.0029585798816568047,\n",
              " 'give': 0.0029585798816568047,\n",
              " 'gives': 0.0029585798816568047,\n",
              " 'globe': 0.0029585798816568047,\n",
              " 'globeastronomy': 0.0029585798816568047,\n",
              " 'going': 0.0029585798816568047,\n",
              " 'great': 0.005917159763313609,\n",
              " 'have': 0.011834319526627219,\n",
              " 'having': 0.0029585798816568047,\n",
              " 'he/she': 0.0029585798816568047,\n",
              " 'helps': 0.005917159763313609,\n",
              " 'home': 0.005917159763313609,\n",
              " 'hope': 0.0029585798816568047,\n",
              " 'hospital': 0.0029585798816568047,\n",
              " 'how': 0.008875739644970414,\n",
              " 'i': 0.008875739644970414,\n",
              " 'if': 0.005917159763313609,\n",
              " 'in': 0.011834319526627219,\n",
              " 'interesting': 0.0029585798816568047,\n",
              " 'internet': 0.0029585798816568047,\n",
              " 'is': 0.014792899408284023,\n",
              " 'isnt': 0.0029585798816568047,\n",
              " 'it': 0.008875739644970414,\n",
              " \"it's\": 0.005917159763313609,\n",
              " 'just': 0.005917159763313609,\n",
              " 'keeps': 0.005917159763313609,\n",
              " 'know': 0.005917159763313609,\n",
              " 'knows': 0.0029585798816568047,\n",
              " 'learn': 0.011834319526627219,\n",
              " 'learning': 0.005917159763313609,\n",
              " 'library': 0.0029585798816568047,\n",
              " 'listening': 0.0029585798816568047,\n",
              " 'local': 0.005917159763313609,\n",
              " 'lot': 0.0029585798816568047,\n",
              " 'me': 0.0029585798816568047,\n",
              " 'meeting': 0.0029585798816568047,\n",
              " 'might': 0.005917159763313609,\n",
              " 'much': 0.005917159763313609,\n",
              " 'myspace': 0.0029585798816568047,\n",
              " 'new': 0.005917159763313609,\n",
              " 'newspaper': 0.0029585798816568047,\n",
              " 'not': 0.011834319526627219,\n",
              " 'now': 0.008875739644970414,\n",
              " 'of': 0.020710059171597635,\n",
              " 'off': 0.0029585798816568047,\n",
              " 'on': 0.029585798816568046,\n",
              " 'or': 0.026627218934911243,\n",
              " 'other': 0.0029585798816568047,\n",
              " 'our': 0.0029585798816568047,\n",
              " 'out': 0.011834319526627219,\n",
              " 'outside': 0.0029585798816568047,\n",
              " 'partner': 0.0029585798816568047,\n",
              " 'people': 0.008875739644970414,\n",
              " 'perpressured': 0.0029585798816568047,\n",
              " 'phone': 0.005917159763313609,\n",
              " 'place': 0.0029585798816568047,\n",
              " 'playing': 0.0029585798816568047,\n",
              " 'plenty': 0.0029585798816568047,\n",
              " 'point': 0.0029585798816568047,\n",
              " 'question': 0.0029585798816568047,\n",
              " 'rather': 0.0029585798816568047,\n",
              " 'reached': 0.0029585798816568047,\n",
              " 'reading': 0.0029585798816568047,\n",
              " 'right': 0.0029585798816568047,\n",
              " 'rushing': 0.0029585798816568047,\n",
              " 'safe': 0.0029585798816568047,\n",
              " 'sea': 0.0029585798816568047,\n",
              " 'setting': 0.0029585798816568047,\n",
              " 'sites': 0.0029585798816568047,\n",
              " 'skills/affects': 0.0029585798816568047,\n",
              " 'so': 0.0029585798816568047,\n",
              " 'so:': 0.0029585798816568047,\n",
              " 'so?': 0.0029585798816568047,\n",
              " 'something': 0.0029585798816568047,\n",
              " 'sound': 0.0029585798816568047,\n",
              " 'spends': 0.0029585798816568047,\n",
              " 'spreading': 0.0029585798816568047,\n",
              " 'surprise': 0.0029585798816568047,\n",
              " 'teenager': 0.005917159763313609,\n",
              " 'than': 0.005917159763313609,\n",
              " 'thank': 0.0029585798816568047,\n",
              " 'the': 0.03550295857988166,\n",
              " 'theirs': 0.0029585798816568047,\n",
              " 'them': 0.0029585798816568047,\n",
              " 'then': 0.0029585798816568047,\n",
              " \"there's\": 0.0029585798816568047,\n",
              " 'they': 0.005917159763313609,\n",
              " 'thing': 0.0029585798816568047,\n",
              " 'things': 0.0029585798816568047,\n",
              " 'think': 0.011834319526627219,\n",
              " 'time': 0.011834319526627219,\n",
              " 'time!': 0.0029585798816568047,\n",
              " 'to': 0.029585798816568046,\n",
              " 'troble': 0.0029585798816568047,\n",
              " 'troble!': 0.0029585798816568047,\n",
              " 'understand': 0.0029585798816568047,\n",
              " 'up': 0.0029585798816568047,\n",
              " 'us': 0.01775147928994083,\n",
              " 'use': 0.0029585798816568047,\n",
              " 'want': 0.0029585798816568047,\n",
              " 'way': 0.005917159763313609,\n",
              " 'well': 0.005917159763313609,\n",
              " 'what': 0.0029585798816568047,\n",
              " 'where': 0.0029585798816568047,\n",
              " 'while': 0.0029585798816568047,\n",
              " 'with': 0.020710059171597635,\n",
              " 'would': 0.0029585798816568047,\n",
              " 'you': 0.029585798816568046,\n",
              " \"you'll\": 0.0029585798816568047,\n",
              " 'your': 0.03254437869822485,\n",
              " 'yours?': 0.0029585798816568047}"
            ]
          },
          "metadata": {
            "tags": []
          },
          "execution_count": 18
        }
      ]
    },
    {
      "cell_type": "code",
      "metadata": {
        "id": "c6qjNYRCHaYM",
        "colab_type": "code",
        "colab": {}
      },
      "source": [
        "#Computing IDF\n",
        "\n",
        "def computeCountDict():\n",
        "    \"\"\" Returns a dictionary whose keys are all the unique words in\n",
        "    the dataset and whose values count the number of reviews in which\n",
        "    the word appears.\n",
        "    \"\"\"\n",
        "    countDict = {}\n",
        "    # Run through each review's tf dictionary and increment countDict's (word, doc) pair\n",
        "    for essay in tfdict:\n",
        "        for word in essay:\n",
        "            if word in countDict:\n",
        "                countDict[word] += 1\n",
        "            else:\n",
        "                countDict[word] = 1\n",
        "    return countDict\n",
        "\n",
        "#Stores the review count dictionary\n",
        "countDict = computeCountDict()\n",
        "\n",
        "\n"
      ],
      "execution_count": 0,
      "outputs": []
    },
    {
      "cell_type": "code",
      "metadata": {
        "id": "atj7xlIPN9pO",
        "colab_type": "code",
        "outputId": "acca8645-4806-4da2-9429-2d41646466e0",
        "colab": {
          "base_uri": "https://localhost:8080/",
          "height": 34
        }
      },
      "source": [
        "countDict['hello']"
      ],
      "execution_count": 0,
      "outputs": [
        {
          "output_type": "execute_result",
          "data": {
            "text/plain": [
              "39"
            ]
          },
          "metadata": {
            "tags": []
          },
          "execution_count": 20
        }
      ]
    },
    {
      "cell_type": "code",
      "metadata": {
        "id": "fi8N5rUUN9nj",
        "colab_type": "code",
        "colab": {}
      },
      "source": [
        "def computeIDFDict():\n",
        "    \"\"\" Returns a dictionary whose keys are all the unique words in the\n",
        "    dataset and whose values are their corresponding idf.\n",
        "    \"\"\"\n",
        "    idfDict = {}\n",
        "    for word in countDict:\n",
        "        idfDict[word] = math.log(len(data) / countDict[word])\n",
        "    return idfDict\n",
        "  \n",
        "#Stores the idf dictionary\n",
        "idfDict = computeIDFDict()"
      ],
      "execution_count": 0,
      "outputs": []
    },
    {
      "cell_type": "code",
      "metadata": {
        "id": "UsfaGYEHPQJ8",
        "colab_type": "code",
        "colab": {}
      },
      "source": [
        "#idfDict[\"hello\"]"
      ],
      "execution_count": 0,
      "outputs": []
    },
    {
      "cell_type": "code",
      "metadata": {
        "id": "va5_KdkMPQWx",
        "colab_type": "code",
        "colab": {}
      },
      "source": [
        "def computeReviewTFIDFDict(reviewTFDict):\n",
        "    \"\"\" Returns a dictionary whose keys are all the unique words in the\n",
        "    review and whose values are their corresponding tfidf.\n",
        "    \"\"\"\n",
        "    reviewTFIDFDict = {}\n",
        "    #For each word in the review, we multiply its tf and its idf.\n",
        "    for word in reviewTFDict:\n",
        "        reviewTFIDFDict[word] = reviewTFDict[word] * idfDict[word]\n",
        "    return reviewTFIDFDict\n",
        "\n",
        "#Stores the TF-IDF dictionaries\n",
        "tfidfDict = [computeReviewTFIDFDict(review) for review in tfdict]"
      ],
      "execution_count": 0,
      "outputs": []
    },
    {
      "cell_type": "code",
      "metadata": {
        "id": "-tmcSB6fP6j-",
        "colab_type": "code",
        "colab": {}
      },
      "source": [
        "#tfidfDict[0]"
      ],
      "execution_count": 0,
      "outputs": []
    },
    {
      "cell_type": "code",
      "metadata": {
        "id": "dy4ReDeUP6oy",
        "colab_type": "code",
        "colab": {}
      },
      "source": [
        " # Create a list of unique words\n",
        "wordDict = sorted(countDict.keys())\n",
        "\n",
        "def computeTFIDFVector(review):\n",
        "     tfidfVector = [0.0] * len(wordDict)\n",
        "     \n",
        "     # For each unique word, if it is in the review, store its TF-IDF value.\n",
        "     for i, word in enumerate(wordDict):\n",
        "         if word in review:\n",
        "             tfidfVector[i] = review[word]\n",
        "     return tfidfVector\n",
        "\n",
        "tfidfVector = [computeTFIDFVector(review) for review in tfidfDict]"
      ],
      "execution_count": 0,
      "outputs": []
    },
    {
      "cell_type": "code",
      "metadata": {
        "id": "6dAq8JiYwU38",
        "colab_type": "code",
        "outputId": "66be9649-6a11-4d26-da10-5b65a437e696",
        "colab": {
          "base_uri": "https://localhost:8080/",
          "height": 34
        }
      },
      "source": [
        "len(wordDict)"
      ],
      "execution_count": 0,
      "outputs": [
        {
          "output_type": "execute_result",
          "data": {
            "text/plain": [
              "54226"
            ]
          },
          "metadata": {
            "tags": []
          },
          "execution_count": 27
        }
      ]
    },
    {
      "cell_type": "code",
      "metadata": {
        "id": "G_fX3wBkxm5y",
        "colab_type": "code",
        "colab": {}
      },
      "source": [
        "\n",
        "for i in range(len(data['essay'])):\n"
      ],
      "execution_count": 0,
      "outputs": []
    },
    {
      "cell_type": "code",
      "metadata": {
        "id": "vMb_ZxXBN9lb",
        "colab_type": "code",
        "outputId": "52746134-c379-40cb-f8b1-01adb2623848",
        "colab": {
          "base_uri": "https://localhost:8080/",
          "height": 34
        }
      },
      "source": [
        "\"\"\"\n",
        "for i in tfidfVector[10]:\n",
        "  if i != 0:\n",
        "    print (i) \"\"\""
      ],
      "execution_count": 0,
      "outputs": [
        {
          "output_type": "execute_result",
          "data": {
            "text/plain": [
              "'\\nfor i in tfidfVector[10]:\\n  if i != 0:\\n    print (i) '"
            ]
          },
          "metadata": {
            "tags": []
          },
          "execution_count": 19
        }
      ]
    },
    {
      "cell_type": "code",
      "metadata": {
        "id": "FFj6ymt9RsbK",
        "colab_type": "code",
        "colab": {}
      },
      "source": [
        "#countDict"
      ],
      "execution_count": 0,
      "outputs": []
    },
    {
      "cell_type": "markdown",
      "metadata": {
        "id": "8RbhzRJamE4T",
        "colab_type": "text"
      },
      "source": [
        "# Set Test & Train Datasets"
      ]
    },
    {
      "cell_type": "code",
      "metadata": {
        "id": "d_pYpTYtRsdh",
        "colab_type": "code",
        "colab": {}
      },
      "source": [
        "scores = np.array(df['domain1_score'])\n",
        "#scores"
      ],
      "execution_count": 0,
      "outputs": []
    },
    {
      "cell_type": "code",
      "metadata": {
        "id": "amjgKPQlRshJ",
        "colab_type": "code",
        "colab": {}
      },
      "source": [
        "essay_vectorized = np.array(tfidfVector)\n",
        "essay_vectorized = np.reshape(essay_vectorized, (essay_vectorized.shape[0], 1, essay_vectorized.shape[1]))"
      ],
      "execution_count": 0,
      "outputs": []
    },
    {
      "cell_type": "code",
      "metadata": {
        "id": "LqLX7g6QDuvw",
        "colab_type": "code",
        "outputId": "60e26cf1-4e40-4326-d9ae-92bd47b28a88",
        "colab": {
          "base_uri": "https://localhost:8080/",
          "height": 51
        }
      },
      "source": [
        "print(essay_vectorized[20].shape)\n",
        "print(essay_vectorized[20])"
      ],
      "execution_count": 0,
      "outputs": [
        {
          "output_type": "stream",
          "text": [
            "(1, 54226)\n",
            "[[0. 0. 0. ... 0. 0. 0.]]\n"
          ],
          "name": "stdout"
        }
      ]
    },
    {
      "cell_type": "code",
      "metadata": {
        "id": "dnzpUliSoP5P",
        "colab_type": "code",
        "colab": {}
      },
      "source": [
        "X_train, X_test, y_train, y_test = train_test_split(essay_vectorized, scores, test_size = 0.3)"
      ],
      "execution_count": 0,
      "outputs": []
    },
    {
      "cell_type": "code",
      "metadata": {
        "id": "cwh_9315mh9J",
        "colab_type": "code",
        "outputId": "d8a8d88f-4e95-45f3-aaa0-da5f10750e4b",
        "colab": {
          "base_uri": "https://localhost:8080/",
          "height": 119
        }
      },
      "source": [
        "print(\"Train Data !\")\n",
        "print(\"X ->\",len(X_train))\n",
        "print(\"Y ->\",len(y_train))\n",
        "\n",
        "\n",
        "print(\"Test Data !\")\n",
        "print(\"X ->\",len(X_test))\n",
        "print(\"Y ->\",len(y_test))\n"
      ],
      "execution_count": 0,
      "outputs": [
        {
          "output_type": "stream",
          "text": [
            "Train Data !\n",
            "X -> 9084\n",
            "Y -> 9084\n",
            "Test Data !\n",
            "X -> 3894\n",
            "Y -> 3894\n"
          ],
          "name": "stdout"
        }
      ]
    },
    {
      "cell_type": "code",
      "metadata": {
        "id": "FdrZRPIHmiJa",
        "colab_type": "code",
        "colab": {}
      },
      "source": [
        ""
      ],
      "execution_count": 0,
      "outputs": []
    },
    {
      "cell_type": "markdown",
      "metadata": {
        "id": "4Sb8StWhkFli",
        "colab_type": "text"
      },
      "source": [
        "# MODEL"
      ]
    },
    {
      "cell_type": "code",
      "metadata": {
        "id": "3x1QiCTbkeXX",
        "colab_type": "code",
        "outputId": "49bb73e9-7ef5-4af4-9725-a5f523206018",
        "colab": {
          "base_uri": "https://localhost:8080/",
          "height": 80
        }
      },
      "source": [
        "import tensorflow as tf\n",
        "from tensorflow import keras\n",
        "from tensorflow.keras import layers\n",
        "\n",
        "\n",
        "\n",
        "\n",
        "#import tensorflow_docs as tfdocs\n",
        "#import tensorflow_docs.plots\n",
        "#import tensorflow_docs.modeling"
      ],
      "execution_count": 0,
      "outputs": [
        {
          "output_type": "display_data",
          "data": {
            "text/html": [
              "<p style=\"color: red;\">\n",
              "The default version of TensorFlow in Colab will soon switch to TensorFlow 2.x.<br>\n",
              "We recommend you <a href=\"https://www.tensorflow.org/guide/migrate\" target=\"_blank\">upgrade</a> now \n",
              "or ensure your notebook will continue to use TensorFlow 1.x via the <code>%tensorflow_version 1.x</code> magic:\n",
              "<a href=\"https://colab.research.google.com/notebooks/tensorflow_version.ipynb\" target=\"_blank\">more info</a>.</p>\n"
            ],
            "text/plain": [
              "<IPython.core.display.HTML object>"
            ]
          },
          "metadata": {
            "tags": []
          }
        }
      ]
    },
    {
      "cell_type": "code",
      "metadata": {
        "id": "4TfKWifPkejj",
        "colab_type": "code",
        "colab": {}
      },
      "source": [
        "from keras.layers import Embedding, LSTM, Dense, Dropout, Lambda, Flatten\n",
        "from keras.models import Sequential, load_model, model_from_config\n",
        "import keras.backend as K"
      ],
      "execution_count": 0,
      "outputs": []
    },
    {
      "cell_type": "code",
      "metadata": {
        "id": "r_sDag0n0NNV",
        "colab_type": "code",
        "colab": {}
      },
      "source": [
        "input_size = 2500"
      ],
      "execution_count": 0,
      "outputs": []
    },
    {
      "cell_type": "code",
      "metadata": {
        "id": "IEo0UqNV0_ed",
        "colab_type": "code",
        "outputId": "18a8e1c6-ae0f-4fb4-b102-3a93fcc57cff",
        "colab": {
          "base_uri": "https://localhost:8080/",
          "height": 34
        }
      },
      "source": [
        "X_train[0].shape\n"
      ],
      "execution_count": 0,
      "outputs": [
        {
          "output_type": "execute_result",
          "data": {
            "text/plain": [
              "(1, 978)"
            ]
          },
          "metadata": {
            "tags": []
          },
          "execution_count": 51
        }
      ]
    },
    {
      "cell_type": "code",
      "metadata": {
        "id": "wAhLBxTC2Ig1",
        "colab_type": "code",
        "outputId": "9e1463db-26da-4b12-d47b-15dbd394d010",
        "colab": {
          "base_uri": "https://localhost:8080/",
          "height": 85
        }
      },
      "source": [
        "y_train[0]"
      ],
      "execution_count": 0,
      "outputs": [
        {
          "output_type": "execute_result",
          "data": {
            "text/plain": [
              "array([0., 0., 0., 0., 0., 0., 0., 0., 0., 1., 0., 0., 0., 0., 0., 0., 0.,\n",
              "       0., 0., 0., 0., 0., 0., 0., 0., 0., 0., 0., 0., 0., 0., 0., 0., 0.,\n",
              "       0., 0., 0., 0., 0., 0., 0., 0., 0., 0., 0., 0., 0., 0., 0., 0., 0.,\n",
              "       0., 0., 0.], dtype=float32)"
            ]
          },
          "metadata": {
            "tags": []
          },
          "execution_count": 56
        }
      ]
    },
    {
      "cell_type": "code",
      "metadata": {
        "id": "76PQU51SRsZY",
        "colab_type": "code",
        "colab": {}
      },
      "source": [
        "def build_model():\n",
        "    \"\"\"Define the model.\"\"\"\n",
        "    model = Sequential()\n",
        "    #model.add(Embedding(input_size,300))\n",
        "    #model.add(GlobalAveragePooling1D())\n",
        "    model.add(LSTM(978, dropout=0.4, recurrent_dropout=0.4, input_shape=[1, 978], return_sequences=True))\n",
        "    model.add(LSTM(64, recurrent_dropout=0.4))\n",
        "    model.add(Dropout(0.5))\n",
        "    model.add(Dense(1, activation='relu'))\n",
        "\n",
        "    model.compile(loss='mean_squared_error', optimizer='rmsprop', metrics=['mae'])\n",
        "    model.summary()\n",
        "\n",
        "    return model"
      ],
      "execution_count": 0,
      "outputs": []
    },
    {
      "cell_type": "code",
      "metadata": {
        "id": "MNTlsCVu766n",
        "colab_type": "code",
        "outputId": "54743f81-c5e6-4c58-b29e-e7d7b06d9140",
        "colab": {
          "base_uri": "https://localhost:8080/",
          "height": 561
        }
      },
      "source": [
        "model = build_model()"
      ],
      "execution_count": 0,
      "outputs": [
        {
          "output_type": "stream",
          "text": [
            "Model: \"sequential_3\"\n",
            "_________________________________________________________________\n",
            "Layer (type)                 Output Shape              Param #   \n",
            "=================================================================\n",
            "lstm_3 (LSTM)                (None, 1, 978)            7655784   \n",
            "_________________________________________________________________\n",
            "lstm_4 (LSTM)                (None, 64)                267008    \n",
            "_________________________________________________________________\n",
            "dropout_2 (Dropout)          (None, 64)                0         \n",
            "_________________________________________________________________\n",
            "dense_2 (Dense)              (None, 1)                 65        \n",
            "=================================================================\n",
            "Total params: 7,922,857\n",
            "Trainable params: 7,922,857\n",
            "Non-trainable params: 0\n",
            "_________________________________________________________________\n",
            "Model: \"sequential_3\"\n",
            "_________________________________________________________________\n",
            "Layer (type)                 Output Shape              Param #   \n",
            "=================================================================\n",
            "lstm_3 (LSTM)                (None, 1, 978)            7655784   \n",
            "_________________________________________________________________\n",
            "lstm_4 (LSTM)                (None, 64)                267008    \n",
            "_________________________________________________________________\n",
            "dropout_2 (Dropout)          (None, 64)                0         \n",
            "_________________________________________________________________\n",
            "dense_2 (Dense)              (None, 1)                 65        \n",
            "=================================================================\n",
            "Total params: 7,922,857\n",
            "Trainable params: 7,922,857\n",
            "Non-trainable params: 0\n",
            "_________________________________________________________________\n"
          ],
          "name": "stdout"
        }
      ]
    },
    {
      "cell_type": "code",
      "metadata": {
        "id": "PhGzyDaTlEQQ",
        "colab_type": "code",
        "colab": {}
      },
      "source": [
        ""
      ],
      "execution_count": 0,
      "outputs": []
    },
    {
      "cell_type": "code",
      "metadata": {
        "id": "P-ufvBTZx3ZP",
        "colab_type": "code",
        "outputId": "ce9c8e0c-b7b8-477d-f06b-bdea4e6dc110",
        "colab": {
          "base_uri": "https://localhost:8080/",
          "height": 340
        }
      },
      "source": [
        "history=model.fit(X_train,y_train,epochs=100,batch_size=64)"
      ],
      "execution_count": 0,
      "outputs": [
        {
          "output_type": "stream",
          "text": [
            "Epoch 1/100\n",
            "2112/9084 [=====>........................] - ETA: 18s - loss: nan - mean_absolute_error: nan"
          ],
          "name": "stdout"
        },
        {
          "output_type": "error",
          "ename": "KeyboardInterrupt",
          "evalue": "ignored",
          "traceback": [
            "\u001b[0;31m---------------------------------------------------------------------------\u001b[0m",
            "\u001b[0;31mKeyboardInterrupt\u001b[0m                         Traceback (most recent call last)",
            "\u001b[0;32m<ipython-input-63-84086a33eb2b>\u001b[0m in \u001b[0;36m<module>\u001b[0;34m()\u001b[0m\n\u001b[0;32m----> 1\u001b[0;31m \u001b[0mhistory\u001b[0m\u001b[0;34m=\u001b[0m\u001b[0mmodel\u001b[0m\u001b[0;34m.\u001b[0m\u001b[0mfit\u001b[0m\u001b[0;34m(\u001b[0m\u001b[0mX_train\u001b[0m\u001b[0;34m,\u001b[0m\u001b[0my_train\u001b[0m\u001b[0;34m,\u001b[0m\u001b[0mepochs\u001b[0m\u001b[0;34m=\u001b[0m\u001b[0;36m100\u001b[0m\u001b[0;34m,\u001b[0m\u001b[0mbatch_size\u001b[0m\u001b[0;34m=\u001b[0m\u001b[0;36m64\u001b[0m\u001b[0;34m)\u001b[0m\u001b[0;34m\u001b[0m\u001b[0;34m\u001b[0m\u001b[0m\n\u001b[0m",
            "\u001b[0;32m/usr/local/lib/python3.6/dist-packages/keras/engine/training.py\u001b[0m in \u001b[0;36mfit\u001b[0;34m(self, x, y, batch_size, epochs, verbose, callbacks, validation_split, validation_data, shuffle, class_weight, sample_weight, initial_epoch, steps_per_epoch, validation_steps, validation_freq, max_queue_size, workers, use_multiprocessing, **kwargs)\u001b[0m\n\u001b[1;32m   1176\u001b[0m                                         \u001b[0msteps_per_epoch\u001b[0m\u001b[0;34m=\u001b[0m\u001b[0msteps_per_epoch\u001b[0m\u001b[0;34m,\u001b[0m\u001b[0;34m\u001b[0m\u001b[0;34m\u001b[0m\u001b[0m\n\u001b[1;32m   1177\u001b[0m                                         \u001b[0mvalidation_steps\u001b[0m\u001b[0;34m=\u001b[0m\u001b[0mvalidation_steps\u001b[0m\u001b[0;34m,\u001b[0m\u001b[0;34m\u001b[0m\u001b[0;34m\u001b[0m\u001b[0m\n\u001b[0;32m-> 1178\u001b[0;31m                                         validation_freq=validation_freq)\n\u001b[0m\u001b[1;32m   1179\u001b[0m \u001b[0;34m\u001b[0m\u001b[0m\n\u001b[1;32m   1180\u001b[0m     def evaluate(self,\n",
            "\u001b[0;32m/usr/local/lib/python3.6/dist-packages/keras/engine/training_arrays.py\u001b[0m in \u001b[0;36mfit_loop\u001b[0;34m(model, fit_function, fit_inputs, out_labels, batch_size, epochs, verbose, callbacks, val_function, val_inputs, shuffle, callback_metrics, initial_epoch, steps_per_epoch, validation_steps, validation_freq)\u001b[0m\n\u001b[1;32m    202\u001b[0m                     \u001b[0mins_batch\u001b[0m\u001b[0;34m[\u001b[0m\u001b[0mi\u001b[0m\u001b[0;34m]\u001b[0m \u001b[0;34m=\u001b[0m \u001b[0mins_batch\u001b[0m\u001b[0;34m[\u001b[0m\u001b[0mi\u001b[0m\u001b[0;34m]\u001b[0m\u001b[0;34m.\u001b[0m\u001b[0mtoarray\u001b[0m\u001b[0;34m(\u001b[0m\u001b[0;34m)\u001b[0m\u001b[0;34m\u001b[0m\u001b[0;34m\u001b[0m\u001b[0m\n\u001b[1;32m    203\u001b[0m \u001b[0;34m\u001b[0m\u001b[0m\n\u001b[0;32m--> 204\u001b[0;31m                 \u001b[0mouts\u001b[0m \u001b[0;34m=\u001b[0m \u001b[0mfit_function\u001b[0m\u001b[0;34m(\u001b[0m\u001b[0mins_batch\u001b[0m\u001b[0;34m)\u001b[0m\u001b[0;34m\u001b[0m\u001b[0;34m\u001b[0m\u001b[0m\n\u001b[0m\u001b[1;32m    205\u001b[0m                 \u001b[0mouts\u001b[0m \u001b[0;34m=\u001b[0m \u001b[0mto_list\u001b[0m\u001b[0;34m(\u001b[0m\u001b[0mouts\u001b[0m\u001b[0;34m)\u001b[0m\u001b[0;34m\u001b[0m\u001b[0;34m\u001b[0m\u001b[0m\n\u001b[1;32m    206\u001b[0m                 \u001b[0;32mfor\u001b[0m \u001b[0ml\u001b[0m\u001b[0;34m,\u001b[0m \u001b[0mo\u001b[0m \u001b[0;32min\u001b[0m \u001b[0mzip\u001b[0m\u001b[0;34m(\u001b[0m\u001b[0mout_labels\u001b[0m\u001b[0;34m,\u001b[0m \u001b[0mouts\u001b[0m\u001b[0;34m)\u001b[0m\u001b[0;34m:\u001b[0m\u001b[0;34m\u001b[0m\u001b[0;34m\u001b[0m\u001b[0m\n",
            "\u001b[0;32m/usr/local/lib/python3.6/dist-packages/keras/backend/tensorflow_backend.py\u001b[0m in \u001b[0;36m__call__\u001b[0;34m(self, inputs)\u001b[0m\n\u001b[1;32m   2977\u001b[0m                     \u001b[0;32mreturn\u001b[0m \u001b[0mself\u001b[0m\u001b[0;34m.\u001b[0m\u001b[0m_legacy_call\u001b[0m\u001b[0;34m(\u001b[0m\u001b[0minputs\u001b[0m\u001b[0;34m)\u001b[0m\u001b[0;34m\u001b[0m\u001b[0;34m\u001b[0m\u001b[0m\n\u001b[1;32m   2978\u001b[0m \u001b[0;34m\u001b[0m\u001b[0m\n\u001b[0;32m-> 2979\u001b[0;31m             \u001b[0;32mreturn\u001b[0m \u001b[0mself\u001b[0m\u001b[0;34m.\u001b[0m\u001b[0m_call\u001b[0m\u001b[0;34m(\u001b[0m\u001b[0minputs\u001b[0m\u001b[0;34m)\u001b[0m\u001b[0;34m\u001b[0m\u001b[0;34m\u001b[0m\u001b[0m\n\u001b[0m\u001b[1;32m   2980\u001b[0m         \u001b[0;32melse\u001b[0m\u001b[0;34m:\u001b[0m\u001b[0;34m\u001b[0m\u001b[0;34m\u001b[0m\u001b[0m\n\u001b[1;32m   2981\u001b[0m             \u001b[0;32mif\u001b[0m \u001b[0mpy_any\u001b[0m\u001b[0;34m(\u001b[0m\u001b[0mis_tensor\u001b[0m\u001b[0;34m(\u001b[0m\u001b[0mx\u001b[0m\u001b[0;34m)\u001b[0m \u001b[0;32mfor\u001b[0m \u001b[0mx\u001b[0m \u001b[0;32min\u001b[0m \u001b[0minputs\u001b[0m\u001b[0;34m)\u001b[0m\u001b[0;34m:\u001b[0m\u001b[0;34m\u001b[0m\u001b[0;34m\u001b[0m\u001b[0m\n",
            "\u001b[0;32m/usr/local/lib/python3.6/dist-packages/keras/backend/tensorflow_backend.py\u001b[0m in \u001b[0;36m_call\u001b[0;34m(self, inputs)\u001b[0m\n\u001b[1;32m   2935\u001b[0m             \u001b[0mfetched\u001b[0m \u001b[0;34m=\u001b[0m \u001b[0mself\u001b[0m\u001b[0;34m.\u001b[0m\u001b[0m_callable_fn\u001b[0m\u001b[0;34m(\u001b[0m\u001b[0;34m*\u001b[0m\u001b[0marray_vals\u001b[0m\u001b[0;34m,\u001b[0m \u001b[0mrun_metadata\u001b[0m\u001b[0;34m=\u001b[0m\u001b[0mself\u001b[0m\u001b[0;34m.\u001b[0m\u001b[0mrun_metadata\u001b[0m\u001b[0;34m)\u001b[0m\u001b[0;34m\u001b[0m\u001b[0;34m\u001b[0m\u001b[0m\n\u001b[1;32m   2936\u001b[0m         \u001b[0;32melse\u001b[0m\u001b[0;34m:\u001b[0m\u001b[0;34m\u001b[0m\u001b[0;34m\u001b[0m\u001b[0m\n\u001b[0;32m-> 2937\u001b[0;31m             \u001b[0mfetched\u001b[0m \u001b[0;34m=\u001b[0m \u001b[0mself\u001b[0m\u001b[0;34m.\u001b[0m\u001b[0m_callable_fn\u001b[0m\u001b[0;34m(\u001b[0m\u001b[0;34m*\u001b[0m\u001b[0marray_vals\u001b[0m\u001b[0;34m)\u001b[0m\u001b[0;34m\u001b[0m\u001b[0;34m\u001b[0m\u001b[0m\n\u001b[0m\u001b[1;32m   2938\u001b[0m         \u001b[0;32mreturn\u001b[0m \u001b[0mfetched\u001b[0m\u001b[0;34m[\u001b[0m\u001b[0;34m:\u001b[0m\u001b[0mlen\u001b[0m\u001b[0;34m(\u001b[0m\u001b[0mself\u001b[0m\u001b[0;34m.\u001b[0m\u001b[0moutputs\u001b[0m\u001b[0;34m)\u001b[0m\u001b[0;34m]\u001b[0m\u001b[0;34m\u001b[0m\u001b[0;34m\u001b[0m\u001b[0m\n\u001b[1;32m   2939\u001b[0m \u001b[0;34m\u001b[0m\u001b[0m\n",
            "\u001b[0;32m/usr/local/lib/python3.6/dist-packages/tensorflow_core/python/client/session.py\u001b[0m in \u001b[0;36m__call__\u001b[0;34m(self, *args, **kwargs)\u001b[0m\n\u001b[1;32m   1470\u001b[0m         ret = tf_session.TF_SessionRunCallable(self._session._session,\n\u001b[1;32m   1471\u001b[0m                                                \u001b[0mself\u001b[0m\u001b[0;34m.\u001b[0m\u001b[0m_handle\u001b[0m\u001b[0;34m,\u001b[0m \u001b[0margs\u001b[0m\u001b[0;34m,\u001b[0m\u001b[0;34m\u001b[0m\u001b[0;34m\u001b[0m\u001b[0m\n\u001b[0;32m-> 1472\u001b[0;31m                                                run_metadata_ptr)\n\u001b[0m\u001b[1;32m   1473\u001b[0m         \u001b[0;32mif\u001b[0m \u001b[0mrun_metadata\u001b[0m\u001b[0;34m:\u001b[0m\u001b[0;34m\u001b[0m\u001b[0;34m\u001b[0m\u001b[0m\n\u001b[1;32m   1474\u001b[0m           \u001b[0mproto_data\u001b[0m \u001b[0;34m=\u001b[0m \u001b[0mtf_session\u001b[0m\u001b[0;34m.\u001b[0m\u001b[0mTF_GetBuffer\u001b[0m\u001b[0;34m(\u001b[0m\u001b[0mrun_metadata_ptr\u001b[0m\u001b[0;34m)\u001b[0m\u001b[0;34m\u001b[0m\u001b[0;34m\u001b[0m\u001b[0m\n",
            "\u001b[0;31mKeyboardInterrupt\u001b[0m: "
          ]
        }
      ]
    },
    {
      "cell_type": "code",
      "metadata": {
        "id": "EoKGdTNiFM4D",
        "colab_type": "code",
        "colab": {}
      },
      "source": [
        "y_pred = model.predict(X_test)\n",
        "np.around(y_pred)\n",
        "loss, accuracy = model.evaluate(test_batches)\n",
        "\n",
        "print(\"Loss: \", loss)\n",
        "print(\"Accuracy: \", accuracy)"
      ],
      "execution_count": 0,
      "outputs": []
    },
    {
      "cell_type": "code",
      "metadata": {
        "id": "qL4LJu8sx3c8",
        "colab_type": "code",
        "colab": {}
      },
      "source": [
        "loss, accuracy = model.evaluate(test_batches)\n",
        "\n",
        "print(\"Loss: \", loss)\n",
        "print(\"Accuracy: \", accuracy)"
      ],
      "execution_count": 0,
      "outputs": []
    },
    {
      "cell_type": "code",
      "metadata": {
        "id": "vNfg2f-2x3XS",
        "colab_type": "code",
        "colab": {}
      },
      "source": [
        ""
      ],
      "execution_count": 0,
      "outputs": []
    },
    {
      "cell_type": "code",
      "metadata": {
        "id": "kqMKfToQx3T_",
        "colab_type": "code",
        "colab": {}
      },
      "source": [
        ""
      ],
      "execution_count": 0,
      "outputs": []
    },
    {
      "cell_type": "code",
      "metadata": {
        "id": "e32ReBB9x3Qz",
        "colab_type": "code",
        "colab": {}
      },
      "source": [
        ""
      ],
      "execution_count": 0,
      "outputs": []
    },
    {
      "cell_type": "markdown",
      "metadata": {
        "id": "nEQrmqdVyGOE",
        "colab_type": "text"
      },
      "source": [
        "# Visualizing the Error"
      ]
    },
    {
      "cell_type": "code",
      "metadata": {
        "id": "KGukulRKx3PA",
        "colab_type": "code",
        "colab": {}
      },
      "source": [
        "import matplotlib.pyplot as plt\n",
        "\n",
        "acc = history_dict['accuracy']\n",
        "val_acc = history_dict['val_accuracy']\n",
        "loss = history_dict['loss']\n",
        "val_loss = history_dict['val_loss']\n",
        "\n",
        "epochs = range(1, len(acc) + 1)\n",
        "\n",
        "# \"bo\" is for \"blue dot\"\n",
        "plt.plot(epochs, loss, 'bo', label='Training loss')\n",
        "# b is for \"solid blue line\"\n",
        "plt.plot(epochs, val_loss, 'b', label='Validation loss')\n",
        "plt.title('Training and validation loss')\n",
        "plt.xlabel('Epochs')\n",
        "plt.ylabel('Loss')\n",
        "plt.legend()\n",
        "\n",
        "plt.show()"
      ],
      "execution_count": 0,
      "outputs": []
    },
    {
      "cell_type": "code",
      "metadata": {
        "id": "X8qcYx45x3Ms",
        "colab_type": "code",
        "colab": {}
      },
      "source": [
        ""
      ],
      "execution_count": 0,
      "outputs": []
    }
  ]
}